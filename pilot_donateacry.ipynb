{
  "cells": [
    {
      "cell_type": "markdown",
      "metadata": {
        "id": "k4us2S1uSyyI"
      },
      "source": [
        "O objetivo deste trabalho é realizar uma classificação de tipos de choro infantil usando redes neurais convolucionais.\n",
        "\n",
        "Vamos utilizar o banco de dados \"Donate a Cry\", disponível no Kaggle: https://www.kaggle.com/datasets/warcoder/infant-cry-audio-corpus/data.\n",
        "\n",
        "O banco é composto por amostras de choro infantil de 5 tipos:\n",
        "- Dor\n",
        "- Gases\n",
        "- Desconforto\n",
        "- Fome\n",
        "- Sono\n",
        "\n",
        "Essa classificação foi realizada pelos pais/tutores dos bebês, baseados no que cessou o choro."
      ]
    },
    {
      "cell_type": "markdown",
      "metadata": {
        "id": "hyUEbeSmSyyK"
      },
      "source": [
        "Para alcançar nosso objetivo vamos seguir o fluxo:\n",
        "- Ler os dados\n",
        "- Transformar o sinal em imagem (espectrogramas)\n",
        "- Desenvolver uma CNN\n",
        "- Treinar a CNN\n",
        "- Testar o desempenho com uma nova amostra de dados"
      ]
    },
    {
      "cell_type": "code",
      "source": [
        "from google.colab import drive\n",
        "drive.mount('/content/drive', force_remount=True)"
      ],
      "metadata": {
        "colab": {
          "base_uri": "https://localhost:8080/"
        },
        "id": "-NDYcSTuTf7W",
        "outputId": "d56ce9af-db9a-47d7-e2d7-e6a92034cdd4"
      },
      "execution_count": 1,
      "outputs": [
        {
          "output_type": "stream",
          "name": "stdout",
          "text": [
            "Mounted at /content/drive\n"
          ]
        }
      ]
    },
    {
      "cell_type": "code",
      "execution_count": 2,
      "metadata": {
        "id": "bQYT0GSZSyyL"
      },
      "outputs": [],
      "source": [
        "import numpy as np\n",
        "import os\n",
        "import pandas as pd\n",
        "import pathlib as Path\n",
        "import librosa\n",
        "import librosa.display\n",
        "import matplotlib.pyplot as plt\n"
      ]
    },
    {
      "cell_type": "markdown",
      "metadata": {
        "id": "eLzJbjtvSyyL"
      },
      "source": [
        "As funções a seguir transformam o sinal de áudio do arquivo .wav em imagens (espectrogramas)"
      ]
    },
    {
      "cell_type": "code",
      "execution_count": null,
      "metadata": {
        "id": "aNF84xfUSyyL"
      },
      "outputs": [],
      "source": [
        "\"\"\"\n",
        "def create_spectrogram(audio_file, image_file):\n",
        "    # Cria a figura para o espectrograma\n",
        "    fig = plt.figure()\n",
        "    ax = fig.add_subplot(1, 1, 1)\n",
        "    fig.subplots_adjust(left=0, right=1, bottom=0, top=1)\n",
        "\n",
        "    # Carrega o áudio e cria o espectrograma\n",
        "    y, sr = librosa.load(audio_file)\n",
        "    ms = librosa.feature.melspectrogram(y=y, sr=sr)\n",
        "    log_ms = librosa.power_to_db(ms, ref=np.max)\n",
        "    librosa.display.specshow(log_ms, sr=sr)\n",
        "\n",
        "    # Salva o espectrograma como imagem\n",
        "    fig.savefig(image_file)\n",
        "    plt.close(fig)\n",
        "\n",
        "def create_pngs_from_wavs(input_path, output_path):\n",
        "    # Cria a pasta de saída se não existir\n",
        "    if not os.path.exists(output_path):\n",
        "        os.makedirs(output_path)\n",
        "\n",
        "    # Lista os arquivos na pasta de entrada\n",
        "    dir = os.listdir(input_path)\n",
        "\n",
        "    # Processa cada arquivo .wav e gera o espectrograma\n",
        "    for i, file in enumerate(dir):\n",
        "        if file.endswith('.wav'):  # Verifica se é um arquivo .wav\n",
        "            input_file = os.path.join(input_path, file)\n",
        "            output_file = os.path.join(output_path, file.replace('.wav', '.png'))\n",
        "            create_spectrogram(input_file, output_file)\n",
        "\n",
        "  \"\"\""
      ]
    },
    {
      "cell_type": "markdown",
      "metadata": {
        "id": "N4ysXWHJSyyM"
      },
      "source": [
        "Agora definimos as pastas que receberão as imagens"
      ]
    },
    {
      "cell_type": "code",
      "execution_count": null,
      "metadata": {
        "id": "HPI8hCu_SyyM"
      },
      "outputs": [],
      "source": [
        "\"\"\"\n",
        "belly_pain='/content/drive/MyDrive/donate-a-cry-dataset/donateacry_corpus/belly_pain'\n",
        "belly_pain_output='/content/drive/MyDrive/donate-a-cry-dataset/output_data/belly_pain_output'\n",
        "burping='/content/drive/MyDrive/donate-a-cry-dataset/donateacry_corpus/burping'\n",
        "burping_output='/content/drive/MyDrive/donate-a-cry-dataset/output_data/burping_output'\n",
        "discomfort='/content/drive/MyDrive/donate-a-cry-dataset/donateacry_corpus/discomfort'\n",
        "discomfort_output='/content/drive/MyDrive/donate-a-cry-dataset/output_data/discomfort_output'\n",
        "hungry='/content/drive/MyDrive/donate-a-cry-dataset/donateacry_corpus/hungry'\n",
        "hungry_output='/content/drive/MyDrive/donate-a-cry-dataset/output_data/hungry_output'\n",
        "tired='/content/drive/MyDrive/donate-a-cry-dataset/donateacry_corpus/tired'\n",
        "tired_output='/content/drive/MyDrive/donate-a-cry-dataset/output_data/tired_output'\n",
        "\"\"\""
      ]
    },
    {
      "cell_type": "code",
      "execution_count": null,
      "metadata": {
        "id": "9Vf09fcLSyyM"
      },
      "outputs": [],
      "source": [
        "\"\"\"\n",
        "# Chama a função para gerar os espectrogramas\n",
        "create_pngs_from_wavs(belly_pain, belly_pain_output)\n",
        "create_pngs_from_wavs(hungry, hungry_output)\n",
        "create_pngs_from_wavs(burping, burping_output)\n",
        "create_pngs_from_wavs(discomfort, discomfort_output)\n",
        "create_pngs_from_wavs(tired, tired_output)\n",
        "\"\"\"\n"
      ]
    },
    {
      "cell_type": "code",
      "execution_count": 3,
      "metadata": {
        "id": "gBJjnIGISyyM"
      },
      "outputs": [],
      "source": [
        "import tensorflow"
      ]
    },
    {
      "cell_type": "markdown",
      "metadata": {
        "id": "OLRT2tK8SyyN"
      },
      "source": [
        "Agora carregamos as imagens, convertemos em arrays e rotulamos os dados de imagem"
      ]
    },
    {
      "cell_type": "code",
      "source": [
        "x = []\n",
        "y = []"
      ],
      "metadata": {
        "id": "ID7xJ_Qfb3jS"
      },
      "execution_count": 3,
      "outputs": []
    },
    {
      "cell_type": "code",
      "execution_count": 4,
      "metadata": {
        "id": "CgBHpDGESyyN"
      },
      "outputs": [],
      "source": [
        "\n",
        "x = []\n",
        "y = []\n",
        "\n",
        "from keras.preprocessing import image # type: ignore\n",
        "\n",
        "def load_images_from_path(path, label):\n",
        "    images = [] #lista para armazenar as imagens\n",
        "    labels = [] #lista para armazenar os rótulos\n",
        "\n",
        "    for file in os.listdir(path): #itera sobre os arquivos da pasta\n",
        "        images.append(image.img_to_array(image.load_img(os.path.join(path, file), target_size=(224, 224, 3)))) #carrega, redimensiona e transforma as imagens em arrays\n",
        "        labels.append((label))\n",
        "\n",
        "    return images, labels\n",
        "\n",
        ""
      ]
    },
    {
      "cell_type": "markdown",
      "metadata": {
        "id": "gfv6ssCKSyyN"
      },
      "source": [
        "Separamos os arquivos de treino e teste"
      ]
    },
    {
      "cell_type": "code",
      "execution_count": null,
      "metadata": {
        "colab": {
          "base_uri": "https://localhost:8080/"
        },
        "collapsed": true,
        "id": "Wsi13SPrSyyN",
        "outputId": "5b951ca6-ae71-47b3-9f26-fe7c3f561b44"
      },
      "outputs": [
        {
          "output_type": "stream",
          "name": "stdout",
          "text": [
            "Moved /content/drive/MyDrive/donate-a-cry-dataset/output_data/belly_pain_output/643D64AD-B711-469A-AF69-55C0D5D3E30F-1430138506-1.0-m-72-bp.png to /content/drive/MyDrive/donate-a-cry-dataset/donateacry_corpus/belly_pain_train\n",
            "Moved /content/drive/MyDrive/donate-a-cry-dataset/output_data/belly_pain_output/643D64AD-B711-469A-AF69-55C0D5D3E30F-1430138545-1.0-m-72-bp.png to /content/drive/MyDrive/donate-a-cry-dataset/donateacry_corpus/belly_pain_train\n",
            "Moved /content/drive/MyDrive/donate-a-cry-dataset/output_data/belly_pain_output/643D64AD-B711-469A-AF69-55C0D5D3E30F-1430138524-1.0-m-72-bp.png to /content/drive/MyDrive/donate-a-cry-dataset/donateacry_corpus/belly_pain_train\n",
            "Moved /content/drive/MyDrive/donate-a-cry-dataset/output_data/belly_pain_output/643D64AD-B711-469A-AF69-55C0D5D3E30F-1430138514-1.0-m-72-bp.png to /content/drive/MyDrive/donate-a-cry-dataset/donateacry_corpus/belly_pain_train\n",
            "Moved /content/drive/MyDrive/donate-a-cry-dataset/output_data/belly_pain_output/643D64AD-B711-469A-AF69-55C0D5D3E30F-1430138536-1.0-m-72-bp.png to /content/drive/MyDrive/donate-a-cry-dataset/donateacry_corpus/belly_pain_train\n",
            "Moved /content/drive/MyDrive/donate-a-cry-dataset/output_data/belly_pain_output/643D64AD-B711-469A-AF69-55C0D5D3E30F-1430138495-1.0-m-72-bp.png to /content/drive/MyDrive/donate-a-cry-dataset/donateacry_corpus/belly_pain_train\n",
            "Moved /content/drive/MyDrive/donate-a-cry-dataset/output_data/belly_pain_output/549a46d8-9c84-430e-ade8-97eae2bef787-1430130772174-1.7-m-48-bp.png to /content/drive/MyDrive/donate-a-cry-dataset/donateacry_corpus/belly_pain_train\n",
            "Moved /content/drive/MyDrive/donate-a-cry-dataset/output_data/belly_pain_output/ae5f103b-5fee-442f-bb1b-d9d0570c46ab-1431533857965-1.7-m-26-bp.png to /content/drive/MyDrive/donate-a-cry-dataset/donateacry_corpus/belly_pain_train\n",
            "Moved /content/drive/MyDrive/donate-a-cry-dataset/output_data/belly_pain_output/69BDA5D6-0276-4462-9BF7-951799563728-1436936185-1.1-m-26-bp.png to /content/drive/MyDrive/donate-a-cry-dataset/donateacry_corpus/belly_pain_train\n",
            "Moved /content/drive/MyDrive/donate-a-cry-dataset/output_data/belly_pain_output/643D64AD-B711-469A-AF69-55C0D5D3E30F-1430138647-1.0-m-72-bp.png to /content/drive/MyDrive/donate-a-cry-dataset/donateacry_corpus/belly_pain_train\n",
            "Moved /content/drive/MyDrive/donate-a-cry-dataset/output_data/belly_pain_output/643D64AD-B711-469A-AF69-55C0D5D3E30F-1430138591-1.0-m-72-bp.png to /content/drive/MyDrive/donate-a-cry-dataset/donateacry_corpus/belly_pain_train\n",
            "Moved /content/drive/MyDrive/donate-a-cry-dataset/output_data/belly_pain_output/999bf14b-e417-4b44-b746-9253f81efe38-1430974001343-1.7-m-26-bp.png to /content/drive/MyDrive/donate-a-cry-dataset/donateacry_corpus/belly_pain_train\n",
            "Moved /content/drive/MyDrive/donate-a-cry-dataset/output_data/belly_pain_output/C421C6FE-DFEE-4080-8AEA-848E7CE4756B-1430548333-1.0-f-26-bp.png to /content/drive/MyDrive/donate-a-cry-dataset/donateacry_corpus/belly_pain_train\n",
            "Moved /content/drive/MyDrive/donate-a-cry-dataset/output_data/hungry_output/02ead89b-aa02-453e-8b83-6ebde9fe7551-1430233132879-1.7-m-26-hu.png to /content/drive/MyDrive/donate-a-cry-dataset/donateacry_corpus/hungry_train\n",
            "Moved /content/drive/MyDrive/donate-a-cry-dataset/output_data/hungry_output/03abcb8f-400a-47d8-ad82-7e4586cc06be-1431864192133-1.7-f-48-hu.png to /content/drive/MyDrive/donate-a-cry-dataset/donateacry_corpus/hungry_train\n",
            "Moved /content/drive/MyDrive/donate-a-cry-dataset/output_data/hungry_output/0776b33b-c41a-4a2e-8b9c-f1c184be00c8-1437123838264-1.7-f-26-hu.png to /content/drive/MyDrive/donate-a-cry-dataset/donateacry_corpus/hungry_train\n",
            "Moved /content/drive/MyDrive/donate-a-cry-dataset/output_data/hungry_output/04c3386b-e6bc-4bd0-8456-d46ae21a73fc-1435305829013-1.7-f-26-hu.png to /content/drive/MyDrive/donate-a-cry-dataset/donateacry_corpus/hungry_train\n",
            "Moved /content/drive/MyDrive/donate-a-cry-dataset/output_data/hungry_output/090C15A8-5406-4EA5-97A3-81F6527227C0-1430147515-1.0-m-72-hu.png to /content/drive/MyDrive/donate-a-cry-dataset/donateacry_corpus/hungry_train\n",
            "Moved /content/drive/MyDrive/donate-a-cry-dataset/output_data/hungry_output/090C15A8-5406-4EA5-97A3-81F6527227C0-1430147533-1.0-m-72-hu.png to /content/drive/MyDrive/donate-a-cry-dataset/donateacry_corpus/hungry_train\n",
            "Moved /content/drive/MyDrive/donate-a-cry-dataset/output_data/hungry_output/090C15A8-5406-4EA5-97A3-81F6527227C0-1430147525-1.0-m-72-hu.png to /content/drive/MyDrive/donate-a-cry-dataset/donateacry_corpus/hungry_train\n",
            "Moved /content/drive/MyDrive/donate-a-cry-dataset/output_data/hungry_output/090C15A8-5406-4EA5-97A3-81F6527227C0-1430147582-1.0-m-72-hu.png to /content/drive/MyDrive/donate-a-cry-dataset/donateacry_corpus/hungry_train\n",
            "Moved /content/drive/MyDrive/donate-a-cry-dataset/output_data/hungry_output/0f257dac-7d6f-4575-9192-e3b4dcd3d4ef-1430185441581-1.7-f-26-hu.png to /content/drive/MyDrive/donate-a-cry-dataset/donateacry_corpus/hungry_train\n",
            "Moved /content/drive/MyDrive/donate-a-cry-dataset/output_data/hungry_output/10A40438-09AA-4A21-83B4-8119F03F7A11-1430848034-1.0-f-26-hu.png to /content/drive/MyDrive/donate-a-cry-dataset/donateacry_corpus/hungry_train\n",
            "Moved /content/drive/MyDrive/donate-a-cry-dataset/output_data/hungry_output/0c8f14a9-6999-485b-97a2-913c1cbf099c-1430760379259-1.7-m-26-hu.png to /content/drive/MyDrive/donate-a-cry-dataset/donateacry_corpus/hungry_train\n",
            "Moved /content/drive/MyDrive/donate-a-cry-dataset/output_data/hungry_output/10A40438-09AA-4A21-83B4-8119F03F7A11-1430848101-1.0-f-26-hu.png to /content/drive/MyDrive/donate-a-cry-dataset/donateacry_corpus/hungry_train\n",
            "Moved /content/drive/MyDrive/donate-a-cry-dataset/output_data/hungry_output/0c8f14a9-6999-485b-97a2-913c1cbf099c-1430760394426-1.7-m-26-hu.png to /content/drive/MyDrive/donate-a-cry-dataset/donateacry_corpus/hungry_train\n",
            "Moved /content/drive/MyDrive/donate-a-cry-dataset/output_data/hungry_output/10A40438-09AA-4A21-83B4-8119F03F7A11-1430848070-1.0-f-26-hu.png to /content/drive/MyDrive/donate-a-cry-dataset/donateacry_corpus/hungry_train\n",
            "Moved /content/drive/MyDrive/donate-a-cry-dataset/output_data/hungry_output/10A40438-09AA-4A21-83B4-8119F03F7A11-1430848060-1.0-f-26-hu.png to /content/drive/MyDrive/donate-a-cry-dataset/donateacry_corpus/hungry_train\n",
            "Moved /content/drive/MyDrive/donate-a-cry-dataset/output_data/hungry_output/11417AC2-DCC9-48CD-8177-CA8665E51B2F-1436881489-1.1-m-48-hu.png to /content/drive/MyDrive/donate-a-cry-dataset/donateacry_corpus/hungry_train\n",
            "Moved /content/drive/MyDrive/donate-a-cry-dataset/output_data/hungry_output/10A40438-09AA-4A21-83B4-8119F03F7A11-1430925172-1.0-f-26-hu.png to /content/drive/MyDrive/donate-a-cry-dataset/donateacry_corpus/hungry_train\n",
            "Moved /content/drive/MyDrive/donate-a-cry-dataset/output_data/hungry_output/177dc72e-d0f8-47ef-a5a7-3b46878e11a0-1430736358754-1.7-f-26-hu.png to /content/drive/MyDrive/donate-a-cry-dataset/donateacry_corpus/hungry_train\n",
            "Moved /content/drive/MyDrive/donate-a-cry-dataset/output_data/hungry_output/1445575b-80ad-477b-8e48-36194cac728e-1430244987914-1.7-f-48-hu.png to /content/drive/MyDrive/donate-a-cry-dataset/donateacry_corpus/hungry_train\n",
            "Moved /content/drive/MyDrive/donate-a-cry-dataset/output_data/hungry_output/177dc72e-d0f8-47ef-a5a7-3b46878e11a0-1430736549614-1.7-f-26-hu.png to /content/drive/MyDrive/donate-a-cry-dataset/donateacry_corpus/hungry_train\n",
            "Moved /content/drive/MyDrive/donate-a-cry-dataset/output_data/hungry_output/19aae3d1-51c6-4ffb-aeb8-efb6ae7ba83e-1436861395462-1.7-m-48-hu.png to /content/drive/MyDrive/donate-a-cry-dataset/donateacry_corpus/hungry_train\n",
            "Moved /content/drive/MyDrive/donate-a-cry-dataset/output_data/hungry_output/177dc72e-d0f8-47ef-a5a7-3b46878e11a0-1430736533767-1.7-f-26-hu.png to /content/drive/MyDrive/donate-a-cry-dataset/donateacry_corpus/hungry_train\n",
            "Moved /content/drive/MyDrive/donate-a-cry-dataset/output_data/hungry_output/189b78c6-9e78-43f2-bcb8-6cc8a462f4dc-1430807938301-1.7-m-22-hu.png to /content/drive/MyDrive/donate-a-cry-dataset/donateacry_corpus/hungry_train\n",
            "Moved /content/drive/MyDrive/donate-a-cry-dataset/output_data/hungry_output/218e6fd7-f9c5-4490-afd7-c4fba174e7d2-1430209174300-1.7-m-72-hu.png to /content/drive/MyDrive/donate-a-cry-dataset/donateacry_corpus/hungry_train\n",
            "Moved /content/drive/MyDrive/donate-a-cry-dataset/output_data/hungry_output/20E2B5A0-40A4-4FD8-8935-AFD1DB833510-1430127670-1.0-m-26-hu.png to /content/drive/MyDrive/donate-a-cry-dataset/donateacry_corpus/hungry_train\n",
            "Moved /content/drive/MyDrive/donate-a-cry-dataset/output_data/hungry_output/1b381a1e-88a6-4a48-b889-a5ccdf0aacaf-1430299568333-1.7-f-72-hu.png to /content/drive/MyDrive/donate-a-cry-dataset/donateacry_corpus/hungry_train\n",
            "Moved /content/drive/MyDrive/donate-a-cry-dataset/output_data/hungry_output/1f40790f-68f2-4e7e-845e-715bd97c82d0-1429979603276-1.7-m-72-hu.png to /content/drive/MyDrive/donate-a-cry-dataset/donateacry_corpus/hungry_train\n",
            "Moved /content/drive/MyDrive/donate-a-cry-dataset/output_data/hungry_output/218e6fd7-f9c5-4490-afd7-c4fba174e7d2-1430209252819-1.7-m-72-hu.png to /content/drive/MyDrive/donate-a-cry-dataset/donateacry_corpus/hungry_train\n",
            "Moved /content/drive/MyDrive/donate-a-cry-dataset/output_data/hungry_output/2439388A-9CF2-4D3B-9534-E6951FC9EAD4-1436877944-1.1-m-26-hu.png to /content/drive/MyDrive/donate-a-cry-dataset/donateacry_corpus/hungry_train\n",
            "Moved /content/drive/MyDrive/donate-a-cry-dataset/output_data/hungry_output/2439388A-9CF2-4D3B-9534-E6951FC9EAD4-1436877953-1.1-m-26-hu.png to /content/drive/MyDrive/donate-a-cry-dataset/donateacry_corpus/hungry_train\n",
            "Moved /content/drive/MyDrive/donate-a-cry-dataset/output_data/hungry_output/2439388A-9CF2-4D3B-9534-E6951FC9EAD4-1436877933-1.1-m-26-hu.png to /content/drive/MyDrive/donate-a-cry-dataset/donateacry_corpus/hungry_train\n",
            "Moved /content/drive/MyDrive/donate-a-cry-dataset/output_data/hungry_output/24f2a4e1-7161-42a3-a2a2-a29a2422c0b8-1430814730789-1.7-f-26-hu.png to /content/drive/MyDrive/donate-a-cry-dataset/donateacry_corpus/hungry_train\n",
            "Moved /content/drive/MyDrive/donate-a-cry-dataset/output_data/hungry_output/24f2a4e1-7161-42a3-a2a2-a29a2422c0b8-1430814741368-1.7-f-26-hu.png to /content/drive/MyDrive/donate-a-cry-dataset/donateacry_corpus/hungry_train\n",
            "Moved /content/drive/MyDrive/donate-a-cry-dataset/output_data/hungry_output/2562ad82-485a-44c2-ad25-f70fce71480b-1430045593479-1.7-m-72-hu.png to /content/drive/MyDrive/donate-a-cry-dataset/donateacry_corpus/hungry_train\n",
            "Moved /content/drive/MyDrive/donate-a-cry-dataset/output_data/hungry_output/2602b7c2-e96d-42f6-9767-f1ae74925ef8-1431376228657-1.7-f-22-hu.png to /content/drive/MyDrive/donate-a-cry-dataset/donateacry_corpus/hungry_train\n",
            "Moved /content/drive/MyDrive/donate-a-cry-dataset/output_data/hungry_output/2F1C0515-EC8E-44C1-ABEA-E04EB475543A-1432143888-1.1-m-22-hu.png to /content/drive/MyDrive/donate-a-cry-dataset/donateacry_corpus/hungry_train\n",
            "Moved /content/drive/MyDrive/donate-a-cry-dataset/output_data/hungry_output/2e25d0a5-0b2b-44ef-8491-e445b16ea75c-1430056314272-1.7-f-26-hu.png to /content/drive/MyDrive/donate-a-cry-dataset/donateacry_corpus/hungry_train\n",
            "Moved /content/drive/MyDrive/donate-a-cry-dataset/output_data/hungry_output/2e25d0a5-0b2b-44ef-8491-e445b16ea75c-1430056332640-1.7-f-26-hu.png to /content/drive/MyDrive/donate-a-cry-dataset/donateacry_corpus/hungry_train\n",
            "Moved /content/drive/MyDrive/donate-a-cry-dataset/output_data/hungry_output/3030d0e9-0c9b-4616-9b83-f10dc2dedbfd-1430053456045-1.7-m-26-hu.png to /content/drive/MyDrive/donate-a-cry-dataset/donateacry_corpus/hungry_train\n",
            "Moved /content/drive/MyDrive/donate-a-cry-dataset/output_data/hungry_output/3030d0e9-0c9b-4616-9b83-f10dc2dedbfd-1430053447333-1.7-m-26-hu.png to /content/drive/MyDrive/donate-a-cry-dataset/donateacry_corpus/hungry_train\n",
            "Moved /content/drive/MyDrive/donate-a-cry-dataset/output_data/hungry_output/2ad6d558-32f2-4bfd-99c5-cbd31ee3bb11-1430064396119-1.7-m-72-hu.png to /content/drive/MyDrive/donate-a-cry-dataset/donateacry_corpus/hungry_train\n",
            "Moved /content/drive/MyDrive/donate-a-cry-dataset/output_data/hungry_output/3030d0e9-0c9b-4616-9b83-f10dc2dedbfd-1430053464739-1.7-m-26-hu.png to /content/drive/MyDrive/donate-a-cry-dataset/donateacry_corpus/hungry_train\n",
            "Moved /content/drive/MyDrive/donate-a-cry-dataset/output_data/hungry_output/3030d0e9-0c9b-4616-9b83-f10dc2dedbfd-1430326171876-1.7-m-26-hu.png to /content/drive/MyDrive/donate-a-cry-dataset/donateacry_corpus/hungry_train\n",
            "Moved /content/drive/MyDrive/donate-a-cry-dataset/output_data/hungry_output/3030d0e9-0c9b-4616-9b83-f10dc2dedbfd-1430053594259-1.7-m-26-hu.png to /content/drive/MyDrive/donate-a-cry-dataset/donateacry_corpus/hungry_train\n",
            "Moved /content/drive/MyDrive/donate-a-cry-dataset/output_data/hungry_output/30c2cee4-b682-4dcb-86b9-7fa6f36f1b66-1430728411287-1.7-f-72-hu.png to /content/drive/MyDrive/donate-a-cry-dataset/donateacry_corpus/hungry_train\n",
            "Moved /content/drive/MyDrive/donate-a-cry-dataset/output_data/hungry_output/37105492-58b1-432e-a1ce-ea154425abab-1430744728397-1.7-f-26-hu.png to /content/drive/MyDrive/donate-a-cry-dataset/donateacry_corpus/hungry_train\n",
            "Moved /content/drive/MyDrive/donate-a-cry-dataset/output_data/hungry_output/323cab80-2551-4a46-8c3d-62c7a5264afa-1430382588301-1.7-m-22-hu.png to /content/drive/MyDrive/donate-a-cry-dataset/donateacry_corpus/hungry_train\n",
            "Moved /content/drive/MyDrive/donate-a-cry-dataset/output_data/hungry_output/3941D08C-5A97-48A4-8830-091D878137F6-1430099813-1.0-m-72-hu.png to /content/drive/MyDrive/donate-a-cry-dataset/donateacry_corpus/hungry_train\n",
            "Moved /content/drive/MyDrive/donate-a-cry-dataset/output_data/hungry_output/3941D08C-5A97-48A4-8830-091D878137F6-1430099826-1.0-m-72-hu.png to /content/drive/MyDrive/donate-a-cry-dataset/donateacry_corpus/hungry_train\n",
            "Moved /content/drive/MyDrive/donate-a-cry-dataset/output_data/hungry_output/376C006E-3664-4056-80D0-7661F631A062-1436930593-1.1-m-26-hu.png to /content/drive/MyDrive/donate-a-cry-dataset/donateacry_corpus/hungry_train\n",
            "Moved /content/drive/MyDrive/donate-a-cry-dataset/output_data/hungry_output/3BF71DAF-2A9E-4355-89D3-41AC37E94083-1437281306-1.1-f-26-hu.png to /content/drive/MyDrive/donate-a-cry-dataset/donateacry_corpus/hungry_train\n",
            "Moved /content/drive/MyDrive/donate-a-cry-dataset/output_data/hungry_output/3bb2445a-9ae9-4dc8-9a2e-86c696ffa405-1430122479873-1.7-m-26-hu.png to /content/drive/MyDrive/donate-a-cry-dataset/donateacry_corpus/hungry_train\n",
            "Moved /content/drive/MyDrive/donate-a-cry-dataset/output_data/hungry_output/3bb2445a-9ae9-4dc8-9a2e-86c696ffa405-1430122005544-1.7-m-26-hu.png to /content/drive/MyDrive/donate-a-cry-dataset/donateacry_corpus/hungry_train\n",
            "Moved /content/drive/MyDrive/donate-a-cry-dataset/output_data/hungry_output/3bb2445a-9ae9-4dc8-9a2e-86c696ffa405-1430122381138-1.7-m-26-hu.png to /content/drive/MyDrive/donate-a-cry-dataset/donateacry_corpus/hungry_train\n",
            "Moved /content/drive/MyDrive/donate-a-cry-dataset/output_data/hungry_output/3bb2445a-9ae9-4dc8-9a2e-86c696ffa405-1430123758633-1.7-m-26-hu.png to /content/drive/MyDrive/donate-a-cry-dataset/donateacry_corpus/hungry_train\n",
            "Moved /content/drive/MyDrive/donate-a-cry-dataset/output_data/hungry_output/3bb2445a-9ae9-4dc8-9a2e-86c696ffa405-1430142784308-1.7-m-26-hu.png to /content/drive/MyDrive/donate-a-cry-dataset/donateacry_corpus/hungry_train\n",
            "Moved /content/drive/MyDrive/donate-a-cry-dataset/output_data/hungry_output/3bb2445a-9ae9-4dc8-9a2e-86c696ffa405-1430142760958-1.7-m-26-hu.png to /content/drive/MyDrive/donate-a-cry-dataset/donateacry_corpus/hungry_train\n",
            "Moved /content/drive/MyDrive/donate-a-cry-dataset/output_data/hungry_output/3bb2445a-9ae9-4dc8-9a2e-86c696ffa405-1430124221551-1.7-m-26-hu.png to /content/drive/MyDrive/donate-a-cry-dataset/donateacry_corpus/hungry_train\n",
            "Moved /content/drive/MyDrive/donate-a-cry-dataset/output_data/hungry_output/3c0b4e07-33ec-4d68-a6b2-5f5dcb8cff8e-1430070829977-1.7-m-26-hu.png to /content/drive/MyDrive/donate-a-cry-dataset/donateacry_corpus/hungry_train\n",
            "Moved /content/drive/MyDrive/donate-a-cry-dataset/output_data/hungry_output/3bb2445a-9ae9-4dc8-9a2e-86c696ffa405-1430146536552-1.7-m-26-hu.png to /content/drive/MyDrive/donate-a-cry-dataset/donateacry_corpus/hungry_train\n",
            "Moved /content/drive/MyDrive/donate-a-cry-dataset/output_data/hungry_output/3c51dedc-6e4c-47dd-a179-86a25e95f1ef-1430651049104-1.7-m-72-hu.png to /content/drive/MyDrive/donate-a-cry-dataset/donateacry_corpus/hungry_train\n",
            "Moved /content/drive/MyDrive/donate-a-cry-dataset/output_data/hungry_output/40a4c760-facf-4911-b0a6-22eccc3ab18d-1430477691332-1.7-f-26-hu.png to /content/drive/MyDrive/donate-a-cry-dataset/donateacry_corpus/hungry_train\n",
            "Moved /content/drive/MyDrive/donate-a-cry-dataset/output_data/hungry_output/3d3e244d-20b1-4ec3-9732-92dcd14ff35a-1436961241219-1.7-m-72-hu.png to /content/drive/MyDrive/donate-a-cry-dataset/donateacry_corpus/hungry_train\n",
            "Moved /content/drive/MyDrive/donate-a-cry-dataset/output_data/hungry_output/40a4c760-facf-4911-b0a6-22eccc3ab18d-1430466164038-1.7-f-26-hu.png to /content/drive/MyDrive/donate-a-cry-dataset/donateacry_corpus/hungry_train\n",
            "Moved /content/drive/MyDrive/donate-a-cry-dataset/output_data/hungry_output/40a4c760-facf-4911-b0a6-22eccc3ab18d-1430466393384-1.7-f-26-hu.png to /content/drive/MyDrive/donate-a-cry-dataset/donateacry_corpus/hungry_train\n",
            "Moved /content/drive/MyDrive/donate-a-cry-dataset/output_data/hungry_output/40a4c760-facf-4911-b0a6-22eccc3ab18d-1430466176951-1.7-f-26-hu.png to /content/drive/MyDrive/donate-a-cry-dataset/donateacry_corpus/hungry_train\n",
            "Moved /content/drive/MyDrive/donate-a-cry-dataset/output_data/hungry_output/40a4c760-facf-4911-b0a6-22eccc3ab18d-1430477780076-1.7-f-26-hu.png to /content/drive/MyDrive/donate-a-cry-dataset/donateacry_corpus/hungry_train\n",
            "Moved /content/drive/MyDrive/donate-a-cry-dataset/output_data/hungry_output/40a4c760-facf-4911-b0a6-22eccc3ab18d-1430477717469-1.7-f-26-hu.png to /content/drive/MyDrive/donate-a-cry-dataset/donateacry_corpus/hungry_train\n",
            "Moved /content/drive/MyDrive/donate-a-cry-dataset/output_data/hungry_output/40a4c760-facf-4911-b0a6-22eccc3ab18d-1430477726097-1.7-f-26-hu.png to /content/drive/MyDrive/donate-a-cry-dataset/donateacry_corpus/hungry_train\n",
            "Moved /content/drive/MyDrive/donate-a-cry-dataset/output_data/hungry_output/40a4c760-facf-4911-b0a6-22eccc3ab18d-1430477756469-1.7-f-26-hu.png to /content/drive/MyDrive/donate-a-cry-dataset/donateacry_corpus/hungry_train\n",
            "Moved /content/drive/MyDrive/donate-a-cry-dataset/output_data/hungry_output/459c3f85-5710-4efa-bcc9-8012aa1af55e-1430034880215-1.7-f-48-hu.png to /content/drive/MyDrive/donate-a-cry-dataset/donateacry_corpus/hungry_train\n",
            "Moved /content/drive/MyDrive/donate-a-cry-dataset/output_data/hungry_output/459c3f85-5710-4efa-bcc9-8012aa1af55e-1430034895673-1.7-f-48-hu.png to /content/drive/MyDrive/donate-a-cry-dataset/donateacry_corpus/hungry_train\n",
            "Moved /content/drive/MyDrive/donate-a-cry-dataset/output_data/hungry_output/46002244-7304-45DC-BF69-B6EC2BB25009-1436902364-1.1-f-48-hu.png to /content/drive/MyDrive/donate-a-cry-dataset/donateacry_corpus/hungry_train\n",
            "Moved /content/drive/MyDrive/donate-a-cry-dataset/output_data/hungry_output/42ec6f14-6ba6-457f-8a80-101ee201195c-1431345009828-1.7-m-22-hu.png to /content/drive/MyDrive/donate-a-cry-dataset/donateacry_corpus/hungry_train\n",
            "Moved /content/drive/MyDrive/donate-a-cry-dataset/output_data/hungry_output/4CD5903D-E2CE-401E-B898-D873C763F44B-1430727644-1.0-m-26-hu.png to /content/drive/MyDrive/donate-a-cry-dataset/donateacry_corpus/hungry_train\n",
            "Moved /content/drive/MyDrive/donate-a-cry-dataset/output_data/hungry_output/4CD5903D-E2CE-401E-B898-D873C763F44B-1430727653-1.0-m-26-hu.png to /content/drive/MyDrive/donate-a-cry-dataset/donateacry_corpus/hungry_train\n",
            "Moved /content/drive/MyDrive/donate-a-cry-dataset/output_data/hungry_output/4be720ce-a5e5-4a48-930f-a212f8a239f6-1434774947458-1.7-f-48-hu.png to /content/drive/MyDrive/donate-a-cry-dataset/donateacry_corpus/hungry_train\n",
            "Moved /content/drive/MyDrive/donate-a-cry-dataset/output_data/hungry_output/4be720ce-a5e5-4a48-930f-a212f8a239f6-1434774932733-1.7-f-48-hu.png to /content/drive/MyDrive/donate-a-cry-dataset/donateacry_corpus/hungry_train\n",
            "Moved /content/drive/MyDrive/donate-a-cry-dataset/output_data/hungry_output/4be720ce-a5e5-4a48-930f-a212f8a239f6-1434737668804-1.7-f-48-hu.png to /content/drive/MyDrive/donate-a-cry-dataset/donateacry_corpus/hungry_train\n",
            "Moved /content/drive/MyDrive/donate-a-cry-dataset/output_data/hungry_output/4be720ce-a5e5-4a48-930f-a212f8a239f6-1434737694572-1.7-f-48-hu.png to /content/drive/MyDrive/donate-a-cry-dataset/donateacry_corpus/hungry_train\n",
            "Moved /content/drive/MyDrive/donate-a-cry-dataset/output_data/hungry_output/4cefc13c-e7c0-4b5a-bddb-c40c103e640a-1431583459308-1.7-f-26-hu.png to /content/drive/MyDrive/donate-a-cry-dataset/donateacry_corpus/hungry_train\n",
            "Moved /content/drive/MyDrive/donate-a-cry-dataset/output_data/hungry_output/4cefc13c-e7c0-4b5a-bddb-c40c103e640a-1431583470764-1.7-f-26-hu.png to /content/drive/MyDrive/donate-a-cry-dataset/donateacry_corpus/hungry_train\n",
            "Moved /content/drive/MyDrive/donate-a-cry-dataset/output_data/hungry_output/50DC5FBC-AC95-44F2-B55F-E4E5FB03AC96-1430007656-1.0-m-26-hu.png to /content/drive/MyDrive/donate-a-cry-dataset/donateacry_corpus/hungry_train\n",
            "Moved /content/drive/MyDrive/donate-a-cry-dataset/output_data/hungry_output/50DC5FBC-AC95-44F2-B55F-E4E5FB03AC96-1430108024-1.0-m-26-hu.png to /content/drive/MyDrive/donate-a-cry-dataset/donateacry_corpus/hungry_train\n",
            "Moved /content/drive/MyDrive/donate-a-cry-dataset/output_data/hungry_output/50DC5FBC-AC95-44F2-B55F-E4E5FB03AC96-1430007668-1.0-m-26-hu.png to /content/drive/MyDrive/donate-a-cry-dataset/donateacry_corpus/hungry_train\n",
            "Moved /content/drive/MyDrive/donate-a-cry-dataset/output_data/hungry_output/52dfc27a-fbc4-4d9f-bbcf-6406c919324a-1430041644396-1.7-m-26-hu.png to /content/drive/MyDrive/donate-a-cry-dataset/donateacry_corpus/hungry_train\n",
            "Moved /content/drive/MyDrive/donate-a-cry-dataset/output_data/hungry_output/50DC5FBC-AC95-44F2-B55F-E4E5FB03AC96-1430007691-1.0-m-26-hu.png to /content/drive/MyDrive/donate-a-cry-dataset/donateacry_corpus/hungry_train\n",
            "Moved /content/drive/MyDrive/donate-a-cry-dataset/output_data/hungry_output/52dfc27a-fbc4-4d9f-bbcf-6406c919324a-1430041657947-1.7-m-26-hu.png to /content/drive/MyDrive/donate-a-cry-dataset/donateacry_corpus/hungry_train\n",
            "Moved /content/drive/MyDrive/donate-a-cry-dataset/output_data/hungry_output/539FDD32-6326-422E-A707-FCF063D3426C-1437073534-1.1-f-26-hu.png to /content/drive/MyDrive/donate-a-cry-dataset/donateacry_corpus/hungry_train\n",
            "Moved /content/drive/MyDrive/donate-a-cry-dataset/output_data/hungry_output/539FDD32-6326-422E-A707-FCF063D3426C-1437073544-1.1-f-26-hu.png to /content/drive/MyDrive/donate-a-cry-dataset/donateacry_corpus/hungry_train\n",
            "Moved /content/drive/MyDrive/donate-a-cry-dataset/output_data/hungry_output/549a46d8-9c84-430e-ade8-97eae2bef787-1430130686288-1.7-m-48-hu.png to /content/drive/MyDrive/donate-a-cry-dataset/donateacry_corpus/hungry_train\n",
            "Moved /content/drive/MyDrive/donate-a-cry-dataset/output_data/hungry_output/549a46d8-9c84-430e-ade8-97eae2bef787-1430130702316-1.7-m-48-hu.png to /content/drive/MyDrive/donate-a-cry-dataset/donateacry_corpus/hungry_train\n",
            "Moved /content/drive/MyDrive/donate-a-cry-dataset/output_data/hungry_output/549a46d8-9c84-430e-ade8-97eae2bef787-1430130714659-1.7-m-48-hu.png to /content/drive/MyDrive/donate-a-cry-dataset/donateacry_corpus/hungry_train\n",
            "Moved /content/drive/MyDrive/donate-a-cry-dataset/output_data/hungry_output/549a46d8-9c84-430e-ade8-97eae2bef787-1430130669340-1.7-m-48-hu.png to /content/drive/MyDrive/donate-a-cry-dataset/donateacry_corpus/hungry_train\n",
            "Moved /content/drive/MyDrive/donate-a-cry-dataset/output_data/hungry_output/549a46d8-9c84-430e-ade8-97eae2bef787-1430130760929-1.7-m-48-hu.png to /content/drive/MyDrive/donate-a-cry-dataset/donateacry_corpus/hungry_train\n",
            "Moved /content/drive/MyDrive/donate-a-cry-dataset/output_data/hungry_output/5728DDD6-149B-412F-A14B-C29B9B5E415F-1432635047-1.0-m-26-hu.png to /content/drive/MyDrive/donate-a-cry-dataset/donateacry_corpus/hungry_train\n",
            "Moved /content/drive/MyDrive/donate-a-cry-dataset/output_data/hungry_output/5728DDD6-149B-412F-A14B-C29B9B5E415F-1432635035-1.0-m-26-hu.png to /content/drive/MyDrive/donate-a-cry-dataset/donateacry_corpus/hungry_train\n",
            "Moved /content/drive/MyDrive/donate-a-cry-dataset/output_data/hungry_output/5728DDD6-149B-412F-A14B-C29B9B5E415F-1432635069-1.0-m-26-hu.png to /content/drive/MyDrive/donate-a-cry-dataset/donateacry_corpus/hungry_train\n",
            "Moved /content/drive/MyDrive/donate-a-cry-dataset/output_data/hungry_output/5E01DC60-1DE3-4AF9-A661-7F649EAE457D-1430141106-1.0-m-26-hu.png to /content/drive/MyDrive/donate-a-cry-dataset/donateacry_corpus/hungry_train\n",
            "Moved /content/drive/MyDrive/donate-a-cry-dataset/output_data/hungry_output/5afc6a14-a9d8-45f8-b31d-c79dd87cc8c6-1430757081034-1.7-m-48-hu.png to /content/drive/MyDrive/donate-a-cry-dataset/donateacry_corpus/hungry_train\n",
            "Moved /content/drive/MyDrive/donate-a-cry-dataset/output_data/hungry_output/5b49f19f-a3a7-411e-bb32-755da3cbd6f0-1430029991480-1.7-m-48-hu.png to /content/drive/MyDrive/donate-a-cry-dataset/donateacry_corpus/hungry_train\n",
            "Moved /content/drive/MyDrive/donate-a-cry-dataset/output_data/hungry_output/5f0a1ed4-ee2c-493c-bc00-6b56aad78a72-1430933240505-1.7-m-72-hu.png to /content/drive/MyDrive/donate-a-cry-dataset/donateacry_corpus/hungry_train\n",
            "Moved /content/drive/MyDrive/donate-a-cry-dataset/output_data/hungry_output/5f651112-d2a3-4911-b3a5-f37bfc092494-1430734658837-1.7-m-72-hu.png to /content/drive/MyDrive/donate-a-cry-dataset/donateacry_corpus/hungry_train\n",
            "Moved /content/drive/MyDrive/donate-a-cry-dataset/output_data/hungry_output/602b06a7-31f0-4370-b35a-9cc81d205958-1430739609286-1.7-f-72-hu.png to /content/drive/MyDrive/donate-a-cry-dataset/donateacry_corpus/hungry_train\n",
            "Moved /content/drive/MyDrive/donate-a-cry-dataset/output_data/hungry_output/602b06a7-31f0-4370-b35a-9cc81d205958-1430907796431-1.7-f-72-hu.png to /content/drive/MyDrive/donate-a-cry-dataset/donateacry_corpus/hungry_train\n",
            "Moved /content/drive/MyDrive/donate-a-cry-dataset/output_data/hungry_output/63CA92F7-973A-4DCA-A410-7B19811A2478-1430041902-1.0-f-26-hu.png to /content/drive/MyDrive/donate-a-cry-dataset/donateacry_corpus/hungry_train\n",
            "Moved /content/drive/MyDrive/donate-a-cry-dataset/output_data/hungry_output/64acb345-a61e-4ef3-a5a6-cf83c04b83f1-1430045478300-1.7-m-72-hu.png to /content/drive/MyDrive/donate-a-cry-dataset/donateacry_corpus/hungry_train\n",
            "Moved /content/drive/MyDrive/donate-a-cry-dataset/output_data/hungry_output/63CA92F7-973A-4DCA-A410-7B19811A2478-1430041884-1.0-f-26-hu.png to /content/drive/MyDrive/donate-a-cry-dataset/donateacry_corpus/hungry_train\n",
            "Moved /content/drive/MyDrive/donate-a-cry-dataset/output_data/hungry_output/64acb345-a61e-4ef3-a5a6-cf83c04b83f1-1430058973897-1.7-m-72-hu.png to /content/drive/MyDrive/donate-a-cry-dataset/donateacry_corpus/hungry_train\n",
            "Moved /content/drive/MyDrive/donate-a-cry-dataset/output_data/hungry_output/6bd76f21-f279-4c46-9453-58c95e7b2475-1430767927715-1.7-m-72-hu.png to /content/drive/MyDrive/donate-a-cry-dataset/donateacry_corpus/hungry_train\n",
            "Moved /content/drive/MyDrive/donate-a-cry-dataset/output_data/hungry_output/719bb382-a592-46b7-82d2-8b4a625263b7-1430376267895-1.7-m-48-hu.png to /content/drive/MyDrive/donate-a-cry-dataset/donateacry_corpus/hungry_train\n",
            "Moved /content/drive/MyDrive/donate-a-cry-dataset/output_data/hungry_output/719bb382-a592-46b7-82d2-8b4a625263b7-1430376483385-1.7-m-48-hu.png to /content/drive/MyDrive/donate-a-cry-dataset/donateacry_corpus/hungry_train\n",
            "Moved /content/drive/MyDrive/donate-a-cry-dataset/output_data/hungry_output/719bb382-a592-46b7-82d2-8b4a625263b7-1430376501744-1.7-m-48-hu.png to /content/drive/MyDrive/donate-a-cry-dataset/donateacry_corpus/hungry_train\n",
            "Moved /content/drive/MyDrive/donate-a-cry-dataset/output_data/hungry_output/719bb382-a592-46b7-82d2-8b4a625263b7-1430376562788-1.7-m-48-hu.png to /content/drive/MyDrive/donate-a-cry-dataset/donateacry_corpus/hungry_train\n",
            "Moved /content/drive/MyDrive/donate-a-cry-dataset/output_data/hungry_output/743E7CCA-D32B-40B6-9541-9808122D3F6B-1436860011-1.1-f-26-hu.png to /content/drive/MyDrive/donate-a-cry-dataset/donateacry_corpus/hungry_train\n",
            "Moved /content/drive/MyDrive/donate-a-cry-dataset/output_data/hungry_output/743E7CCA-D32B-40B6-9541-9808122D3F6B-1436860028-1.1-f-26-hu.png to /content/drive/MyDrive/donate-a-cry-dataset/donateacry_corpus/hungry_train\n",
            "Moved /content/drive/MyDrive/donate-a-cry-dataset/output_data/hungry_output/743E7CCA-D32B-40B6-9541-9808122D3F6B-1436860053-1.1-f-26-hu.png to /content/drive/MyDrive/donate-a-cry-dataset/donateacry_corpus/hungry_train\n",
            "Moved /content/drive/MyDrive/donate-a-cry-dataset/output_data/hungry_output/7616E8F4-B1A7-45A6-9A0C-C9BB2DE64FC3-1436868751-1.1-m-72-hu.png to /content/drive/MyDrive/donate-a-cry-dataset/donateacry_corpus/hungry_train\n",
            "Moved /content/drive/MyDrive/donate-a-cry-dataset/output_data/hungry_output/789d2553-cbf2-4911-91e4-fb228d231238-1430818517787-1.7-m-26-hu.png to /content/drive/MyDrive/donate-a-cry-dataset/donateacry_corpus/hungry_train\n",
            "Moved /content/drive/MyDrive/donate-a-cry-dataset/output_data/hungry_output/743E7CCA-D32B-40B6-9541-9808122D3F6B-1436860161-1.1-f-26-hu.png to /content/drive/MyDrive/donate-a-cry-dataset/donateacry_corpus/hungry_train\n",
            "Moved /content/drive/MyDrive/donate-a-cry-dataset/output_data/hungry_output/7A864194-4B6B-4850-ABBF-0C2A8170107B-1436846870-1.1-f-26-hu.png to /content/drive/MyDrive/donate-a-cry-dataset/donateacry_corpus/hungry_train\n",
            "Moved /content/drive/MyDrive/donate-a-cry-dataset/output_data/hungry_output/7A22229D-06C2-4AAA-9674-DE5DF1906B3A-1436891933-1.1-m-72-hu.png to /content/drive/MyDrive/donate-a-cry-dataset/donateacry_corpus/hungry_train\n",
            "Moved /content/drive/MyDrive/donate-a-cry-dataset/output_data/hungry_output/7A864194-4B6B-4850-ABBF-0C2A8170107B-1436846824-1.1-f-26-hu.png to /content/drive/MyDrive/donate-a-cry-dataset/donateacry_corpus/hungry_train\n",
            "Moved /content/drive/MyDrive/donate-a-cry-dataset/output_data/hungry_output/7A864194-4B6B-4850-ABBF-0C2A8170107B-1436846797-1.1-f-26-hu.png to /content/drive/MyDrive/donate-a-cry-dataset/donateacry_corpus/hungry_train\n",
            "Moved /content/drive/MyDrive/donate-a-cry-dataset/output_data/hungry_output/7B924575-21FC-462A-969E-BABB46D1CBF5-1430055167-1.0-f-72-hu.png to /content/drive/MyDrive/donate-a-cry-dataset/donateacry_corpus/hungry_train\n",
            "Moved /content/drive/MyDrive/donate-a-cry-dataset/output_data/hungry_output/7CF37029-1040-40B8-ACC9-7E6E5C03AF9B-1429808939-1.0-m-72-hu.png to /content/drive/MyDrive/donate-a-cry-dataset/donateacry_corpus/hungry_train\n",
            "Moved /content/drive/MyDrive/donate-a-cry-dataset/output_data/hungry_output/7B924575-21FC-462A-969E-BABB46D1CBF5-1430055243-1.0-f-72-hu.png to /content/drive/MyDrive/donate-a-cry-dataset/donateacry_corpus/hungry_train\n",
            "Moved /content/drive/MyDrive/donate-a-cry-dataset/output_data/hungry_output/7B924575-21FC-462A-969E-BABB46D1CBF5-1430055220-1.0-f-72-hu.png to /content/drive/MyDrive/donate-a-cry-dataset/donateacry_corpus/hungry_train\n",
            "Moved /content/drive/MyDrive/donate-a-cry-dataset/output_data/hungry_output/7B924575-21FC-462A-969E-BABB46D1CBF5-1430055234-1.0-f-72-hu.png to /content/drive/MyDrive/donate-a-cry-dataset/donateacry_corpus/hungry_train\n",
            "Moved /content/drive/MyDrive/donate-a-cry-dataset/output_data/hungry_output/7E4B9C14-F955-4BED-9B03-7F3096A6CBFF-1430232157-1.0-f-26-hu.png to /content/drive/MyDrive/donate-a-cry-dataset/donateacry_corpus/hungry_train\n",
            "Moved /content/drive/MyDrive/donate-a-cry-dataset/output_data/hungry_output/7E4B9C14-F955-4BED-9B03-7F3096A6CBFF-1430232166-1.0-f-26-hu.png to /content/drive/MyDrive/donate-a-cry-dataset/donateacry_corpus/hungry_train\n",
            "Moved /content/drive/MyDrive/donate-a-cry-dataset/output_data/hungry_output/7E4B9C14-F955-4BED-9B03-7F3096A6CBFF-1430232180-1.0-f-26-hu.png to /content/drive/MyDrive/donate-a-cry-dataset/donateacry_corpus/hungry_train\n",
            "Moved /content/drive/MyDrive/donate-a-cry-dataset/output_data/hungry_output/7b23d26e-6f97-4e8b-b520-a9fdde21ee91-1432261716253-1.7-m-48-hu.png to /content/drive/MyDrive/donate-a-cry-dataset/donateacry_corpus/hungry_train\n",
            "Moved /content/drive/MyDrive/donate-a-cry-dataset/output_data/hungry_output/7E4B9C14-F955-4BED-9B03-7F3096A6CBFF-1430232195-1.0-f-26-hu.png to /content/drive/MyDrive/donate-a-cry-dataset/donateacry_corpus/hungry_train\n",
            "Moved /content/drive/MyDrive/donate-a-cry-dataset/output_data/hungry_output/7b23d26e-6f97-4e8b-b520-a9fdde21ee91-1432275312750-1.7-m-48-hu.png to /content/drive/MyDrive/donate-a-cry-dataset/donateacry_corpus/hungry_train\n",
            "Moved /content/drive/MyDrive/donate-a-cry-dataset/output_data/hungry_output/7e3de9b8-2be5-473f-b8c3-c2657f1317bb-1430006339251-1.7-f-04-hu.png to /content/drive/MyDrive/donate-a-cry-dataset/donateacry_corpus/hungry_train\n",
            "Moved /content/drive/MyDrive/donate-a-cry-dataset/output_data/hungry_output/8057932d-a6af-4d63-903b-37049686e176-1430919675907-1.7-f-72-hu.png to /content/drive/MyDrive/donate-a-cry-dataset/donateacry_corpus/hungry_train\n",
            "Moved /content/drive/MyDrive/donate-a-cry-dataset/output_data/hungry_output/80130d3a-ceb9-4460-8464-e956bac5c40d-1436850034856-1.7-m-72-hu.png to /content/drive/MyDrive/donate-a-cry-dataset/donateacry_corpus/hungry_train\n",
            "Moved /content/drive/MyDrive/donate-a-cry-dataset/output_data/hungry_output/818A32F4-D5D8-426C-B88C-81A8154AC81A-1430093571-1.0-m-26-hu.png to /content/drive/MyDrive/donate-a-cry-dataset/donateacry_corpus/hungry_train\n",
            "Moved /content/drive/MyDrive/donate-a-cry-dataset/output_data/hungry_output/86c2b87a-ae7c-46a3-b6fb-7ebe748812cf-1430036593222-1.7-f-26-hu.png to /content/drive/MyDrive/donate-a-cry-dataset/donateacry_corpus/hungry_train\n",
            "Moved /content/drive/MyDrive/donate-a-cry-dataset/output_data/hungry_output/8FDA58A7-FDC6-4421-855F-738E6E853E43-1429895742-1.0-m-26-hu.png to /content/drive/MyDrive/donate-a-cry-dataset/donateacry_corpus/hungry_train\n",
            "Moved /content/drive/MyDrive/donate-a-cry-dataset/output_data/hungry_output/8FDA58A7-FDC6-4421-855F-738E6E853E43-1429895751-1.0-m-26-hu.png to /content/drive/MyDrive/donate-a-cry-dataset/donateacry_corpus/hungry_train\n",
            "Moved /content/drive/MyDrive/donate-a-cry-dataset/output_data/hungry_output/8C13A1F9-62CC-46AA-9192-BECE5CDD5CB0-1430249362-1.0-f-72-hu.png to /content/drive/MyDrive/donate-a-cry-dataset/donateacry_corpus/hungry_train\n",
            "Moved /content/drive/MyDrive/donate-a-cry-dataset/output_data/hungry_output/8c66887c-8251-49fa-903b-c02d56405f58-1436856065644-1.7-m-26-hu.png to /content/drive/MyDrive/donate-a-cry-dataset/donateacry_corpus/hungry_train\n",
            "Moved /content/drive/MyDrive/donate-a-cry-dataset/output_data/hungry_output/8FDA58A7-FDC6-4421-855F-738E6E853E43-1429895780-1.0-m-26-hu.png to /content/drive/MyDrive/donate-a-cry-dataset/donateacry_corpus/hungry_train\n",
            "Moved /content/drive/MyDrive/donate-a-cry-dataset/output_data/hungry_output/8c2a1f03-07f4-4aee-a73f-bc57beb2b600-1430761324670-1.7-f-26-hu.png to /content/drive/MyDrive/donate-a-cry-dataset/donateacry_corpus/hungry_train\n",
            "Moved /content/drive/MyDrive/donate-a-cry-dataset/output_data/hungry_output/8c920fd0-fa9f-4926-bcac-074767dcbfcd-1436856363348-1.7-f-04-hu.png to /content/drive/MyDrive/donate-a-cry-dataset/donateacry_corpus/hungry_train\n",
            "Moved /content/drive/MyDrive/donate-a-cry-dataset/output_data/hungry_output/8c66887c-8251-49fa-903b-c02d56405f58-1436856137837-1.7-m-26-hu.png to /content/drive/MyDrive/donate-a-cry-dataset/donateacry_corpus/hungry_train\n",
            "Moved /content/drive/MyDrive/donate-a-cry-dataset/output_data/hungry_output/8f4dbf5a-b504-4452-b6ac-94e646a6a052-1430734962301-1.7-f-72-hu.png to /content/drive/MyDrive/donate-a-cry-dataset/donateacry_corpus/hungry_train\n",
            "Moved /content/drive/MyDrive/donate-a-cry-dataset/output_data/hungry_output/8f4dbf5a-b504-4452-b6ac-94e646a6a052-1430727792958-1.7-f-72-hu.png to /content/drive/MyDrive/donate-a-cry-dataset/donateacry_corpus/hungry_train\n",
            "Moved /content/drive/MyDrive/donate-a-cry-dataset/output_data/hungry_output/8f4dbf5a-b504-4452-b6ac-94e646a6a052-1430729451597-1.7-f-72-hu.png to /content/drive/MyDrive/donate-a-cry-dataset/donateacry_corpus/hungry_train\n",
            "Moved /content/drive/MyDrive/donate-a-cry-dataset/output_data/hungry_output/8f4dbf5a-b504-4452-b6ac-94e646a6a052-1430727806162-1.7-f-72-hu.png to /content/drive/MyDrive/donate-a-cry-dataset/donateacry_corpus/hungry_train\n",
            "Moved /content/drive/MyDrive/donate-a-cry-dataset/output_data/hungry_output/8f4dbf5a-b504-4452-b6ac-94e646a6a052-1430735028906-1.7-f-72-hu.png to /content/drive/MyDrive/donate-a-cry-dataset/donateacry_corpus/hungry_train\n",
            "Moved /content/drive/MyDrive/donate-a-cry-dataset/output_data/hungry_output/8f4dbf5a-b504-4452-b6ac-94e646a6a052-1430735040980-1.7-f-72-hu.png to /content/drive/MyDrive/donate-a-cry-dataset/donateacry_corpus/hungry_train\n",
            "Moved /content/drive/MyDrive/donate-a-cry-dataset/output_data/hungry_output/8f4dbf5a-b504-4452-b6ac-94e646a6a052-1430735057816-1.7-f-72-hu.png to /content/drive/MyDrive/donate-a-cry-dataset/donateacry_corpus/hungry_train\n",
            "Moved /content/drive/MyDrive/donate-a-cry-dataset/output_data/hungry_output/9090c7a3-bebc-4485-aafc-64e4298da3ac-1430109146143-1.7-f-26-hu.png to /content/drive/MyDrive/donate-a-cry-dataset/donateacry_corpus/hungry_train\n",
            "Moved /content/drive/MyDrive/donate-a-cry-dataset/output_data/hungry_output/8f4dbf5a-b504-4452-b6ac-94e646a6a052-1430735157938-1.7-f-72-hu.png to /content/drive/MyDrive/donate-a-cry-dataset/donateacry_corpus/hungry_train\n",
            "Moved /content/drive/MyDrive/donate-a-cry-dataset/output_data/hungry_output/8f5c01dc-6826-4076-a831-027ad61afdaf-1435873509176-1.7-f-26-hu.png to /content/drive/MyDrive/donate-a-cry-dataset/donateacry_corpus/hungry_train\n",
            "Moved /content/drive/MyDrive/donate-a-cry-dataset/output_data/hungry_output/9090c7a3-bebc-4485-aafc-64e4298da3ac-1430088396663-1.7-f-26-hu.png to /content/drive/MyDrive/donate-a-cry-dataset/donateacry_corpus/hungry_train\n",
            "Moved /content/drive/MyDrive/donate-a-cry-dataset/output_data/hungry_output/96986c8b-9988-4c37-a0f8-e7c4269cc3ac-1431719845836-1.7-m-26-hu.png to /content/drive/MyDrive/donate-a-cry-dataset/donateacry_corpus/hungry_train\n",
            "Moved /content/drive/MyDrive/donate-a-cry-dataset/output_data/hungry_output/9641D2D5-7D9F-41B2-8345-229AE9555FEC-1430022546-1.0-m-72-hu.png to /content/drive/MyDrive/donate-a-cry-dataset/donateacry_corpus/hungry_train\n",
            "Moved /content/drive/MyDrive/donate-a-cry-dataset/output_data/hungry_output/999bf14b-e417-4b44-b746-9253f81efe38-1430972705879-1.7-m-26-hu.png to /content/drive/MyDrive/donate-a-cry-dataset/donateacry_corpus/hungry_train\n",
            "Moved /content/drive/MyDrive/donate-a-cry-dataset/output_data/hungry_output/999bf14b-e417-4b44-b746-9253f81efe38-1431013068243-1.7-m-26-hu.png to /content/drive/MyDrive/donate-a-cry-dataset/donateacry_corpus/hungry_train\n",
            "Moved /content/drive/MyDrive/donate-a-cry-dataset/output_data/hungry_output/999bf14b-e417-4b44-b746-9253f81efe38-1431013054417-1.7-m-26-hu.png to /content/drive/MyDrive/donate-a-cry-dataset/donateacry_corpus/hungry_train\n",
            "Moved /content/drive/MyDrive/donate-a-cry-dataset/output_data/hungry_output/9fe37482-6a64-401d-b8b9-3e47d6ed9ac0-1430047373513-1.7-f-26-hu.png to /content/drive/MyDrive/donate-a-cry-dataset/donateacry_corpus/hungry_train\n",
            "Moved /content/drive/MyDrive/donate-a-cry-dataset/output_data/hungry_output/9fe37482-6a64-401d-b8b9-3e47d6ed9ac0-1430047399844-1.7-f-26-hu.png to /content/drive/MyDrive/donate-a-cry-dataset/donateacry_corpus/hungry_train\n",
            "Moved /content/drive/MyDrive/donate-a-cry-dataset/output_data/hungry_output/9fe37482-6a64-401d-b8b9-3e47d6ed9ac0-1430047362195-1.7-f-26-hu.png to /content/drive/MyDrive/donate-a-cry-dataset/donateacry_corpus/hungry_train\n",
            "Moved /content/drive/MyDrive/donate-a-cry-dataset/output_data/hungry_output/9fe37482-6a64-401d-b8b9-3e47d6ed9ac0-1430047590938-1.7-f-26-hu.png to /content/drive/MyDrive/donate-a-cry-dataset/donateacry_corpus/hungry_train\n",
            "Moved /content/drive/MyDrive/donate-a-cry-dataset/output_data/hungry_output/AE02C934-F4E5-4C73-818D-56AA6887EC18-1430279454-1.0-m-26-hu.png to /content/drive/MyDrive/donate-a-cry-dataset/donateacry_corpus/hungry_train\n",
            "Moved /content/drive/MyDrive/donate-a-cry-dataset/output_data/hungry_output/AE02C934-F4E5-4C73-818D-56AA6887EC18-1430279441-1.0-m-26-hu.png to /content/drive/MyDrive/donate-a-cry-dataset/donateacry_corpus/hungry_train\n",
            "Moved /content/drive/MyDrive/donate-a-cry-dataset/output_data/hungry_output/AA2CA7F6-4547-4CC0-AA4C-5D7B64727FB5-1437123487-1.1-f-26-hu.png to /content/drive/MyDrive/donate-a-cry-dataset/donateacry_corpus/hungry_train\n",
            "Moved /content/drive/MyDrive/donate-a-cry-dataset/output_data/hungry_output/B327333E-2DE2-4833-A75A-4C576208BED3-1430087429-1.0-f-48-hu.png to /content/drive/MyDrive/donate-a-cry-dataset/donateacry_corpus/hungry_train\n",
            "Moved /content/drive/MyDrive/donate-a-cry-dataset/output_data/hungry_output/B2A105BB-347B-4878-A735-AA4ECF32CD16-1436864116-1.1-m-26-hu.png to /content/drive/MyDrive/donate-a-cry-dataset/donateacry_corpus/hungry_train\n",
            "Moved /content/drive/MyDrive/donate-a-cry-dataset/output_data/hungry_output/B327333E-2DE2-4833-A75A-4C576208BED3-1430087443-1.0-f-48-hu.png to /content/drive/MyDrive/donate-a-cry-dataset/donateacry_corpus/hungry_train\n",
            "Moved /content/drive/MyDrive/donate-a-cry-dataset/output_data/hungry_output/C249BCDD-0F65-4D6A-82BE-43C4006E3DDB-1436891733-1.1-m-72-hu.png to /content/drive/MyDrive/donate-a-cry-dataset/donateacry_corpus/hungry_train\n",
            "Moved /content/drive/MyDrive/donate-a-cry-dataset/output_data/hungry_output/B456CE9D-CBD4-43E5-899B-8B8B0483F17D-1431015486-1.0-m-72-hu.png to /content/drive/MyDrive/donate-a-cry-dataset/donateacry_corpus/hungry_train\n",
            "Moved /content/drive/MyDrive/donate-a-cry-dataset/output_data/hungry_output/B327333E-2DE2-4833-A75A-4C576208BED3-1430087456-1.0-f-48-hu.png to /content/drive/MyDrive/donate-a-cry-dataset/donateacry_corpus/hungry_train\n",
            "Moved /content/drive/MyDrive/donate-a-cry-dataset/output_data/hungry_output/C421C6FE-DFEE-4080-8AEA-848E7CE4756B-1430548277-1.0-f-26-hu.png to /content/drive/MyDrive/donate-a-cry-dataset/donateacry_corpus/hungry_train\n",
            "Moved /content/drive/MyDrive/donate-a-cry-dataset/output_data/hungry_output/C249BCDD-0F65-4D6A-82BE-43C4006E3DDB-1436891742-1.1-m-72-hu.png to /content/drive/MyDrive/donate-a-cry-dataset/donateacry_corpus/hungry_train\n",
            "Moved /content/drive/MyDrive/donate-a-cry-dataset/output_data/hungry_output/C421C6FE-DFEE-4080-8AEA-848E7CE4756B-1430548250-1.0-f-48-hu.png to /content/drive/MyDrive/donate-a-cry-dataset/donateacry_corpus/hungry_train\n",
            "Moved /content/drive/MyDrive/donate-a-cry-dataset/output_data/hungry_output/D54D9C2A-56ED-4338-9D1F-2ADB4E081DAD-1429807587-1.0-m-48-hu.png to /content/drive/MyDrive/donate-a-cry-dataset/donateacry_corpus/hungry_train\n",
            "Moved /content/drive/MyDrive/donate-a-cry-dataset/output_data/hungry_output/D54D9C2A-56ED-4338-9D1F-2ADB4E081DAD-1429807598-1.0-m-48-hu.png to /content/drive/MyDrive/donate-a-cry-dataset/donateacry_corpus/hungry_train\n",
            "Moved /content/drive/MyDrive/donate-a-cry-dataset/output_data/hungry_output/D54D9C2A-56ED-4338-9D1F-2ADB4E081DAD-1430036283-1.0-m-48-hu.png to /content/drive/MyDrive/donate-a-cry-dataset/donateacry_corpus/hungry_train\n",
            "Moved /content/drive/MyDrive/donate-a-cry-dataset/output_data/hungry_output/D833237F-1F7C-4338-BEDE-84C0CF5F4145-1430084007-1.0-f-26-hu.png to /content/drive/MyDrive/donate-a-cry-dataset/donateacry_corpus/hungry_train\n",
            "Moved /content/drive/MyDrive/donate-a-cry-dataset/output_data/hungry_output/D54D9C2A-56ED-4338-9D1F-2ADB4E081DAD-1430036301-1.0-m-48-hu.png to /content/drive/MyDrive/donate-a-cry-dataset/donateacry_corpus/hungry_train\n",
            "Moved /content/drive/MyDrive/donate-a-cry-dataset/output_data/hungry_output/D833237F-1F7C-4338-BEDE-84C0CF5F4145-1430083995-1.0-f-26-hu.png to /content/drive/MyDrive/donate-a-cry-dataset/donateacry_corpus/hungry_train\n",
            "Moved /content/drive/MyDrive/donate-a-cry-dataset/output_data/hungry_output/DB95BF4A-E3E5-4429-A660-DBBCF486E6DF-1430664633-1.0-f-72-hu.png to /content/drive/MyDrive/donate-a-cry-dataset/donateacry_corpus/hungry_train\n",
            "Moved /content/drive/MyDrive/donate-a-cry-dataset/output_data/hungry_output/DB95BF4A-E3E5-4429-A660-DBBCF486E6DF-1430664611-1.0-f-72-hu.png to /content/drive/MyDrive/donate-a-cry-dataset/donateacry_corpus/hungry_train\n",
            "Moved /content/drive/MyDrive/donate-a-cry-dataset/output_data/hungry_output/DBA77EDC-D457-4B3A-83B8-B7AFBF272D4E-1436860486-1.1-m-72-hu.png to /content/drive/MyDrive/donate-a-cry-dataset/donateacry_corpus/hungry_train\n",
            "Moved /content/drive/MyDrive/donate-a-cry-dataset/output_data/hungry_output/F1AF5794-AD3B-4181-B010-AB835E5BDA64-1430441342-1.0-m-72-hu.png to /content/drive/MyDrive/donate-a-cry-dataset/donateacry_corpus/hungry_train\n",
            "Moved /content/drive/MyDrive/donate-a-cry-dataset/output_data/hungry_output/EC2E1160-BC33-450A-A62D-DE2A4C0D42BB-1430039051-1.0-f-48-hu.png to /content/drive/MyDrive/donate-a-cry-dataset/donateacry_corpus/hungry_train\n",
            "Moved /content/drive/MyDrive/donate-a-cry-dataset/output_data/hungry_output/F2F97740-D638-4B6F-9E09-3AC65F06B448-1436849335-1.1-f-48-hu.png to /content/drive/MyDrive/donate-a-cry-dataset/donateacry_corpus/hungry_train\n",
            "Moved /content/drive/MyDrive/donate-a-cry-dataset/output_data/hungry_output/F2F97740-D638-4B6F-9E09-3AC65F06B448-1436849313-1.1-f-48-hu.png to /content/drive/MyDrive/donate-a-cry-dataset/donateacry_corpus/hungry_train\n",
            "Moved /content/drive/MyDrive/donate-a-cry-dataset/output_data/hungry_output/F3BAEDDA-CDC0-4A65-90EE-5C372CEE4F3B-1437012059-1.1-m-26-hu.png to /content/drive/MyDrive/donate-a-cry-dataset/donateacry_corpus/hungry_train\n",
            "Moved /content/drive/MyDrive/donate-a-cry-dataset/output_data/hungry_output/F3BAEDDA-CDC0-4A65-90EE-5C372CEE4F3B-1437012044-1.1-m-26-hu.png to /content/drive/MyDrive/donate-a-cry-dataset/donateacry_corpus/hungry_train\n",
            "Moved /content/drive/MyDrive/donate-a-cry-dataset/output_data/hungry_output/F3BAEDDA-CDC0-4A65-90EE-5C372CEE4F3B-1437012076-1.1-f-26-hu.png to /content/drive/MyDrive/donate-a-cry-dataset/donateacry_corpus/hungry_train\n",
            "Moved /content/drive/MyDrive/donate-a-cry-dataset/output_data/hungry_output/F950E7E3-A1A5-4A01-99F4-9B155C3C6606-1430305696-1.0-m-72-hu.png to /content/drive/MyDrive/donate-a-cry-dataset/donateacry_corpus/hungry_train\n",
            "Moved /content/drive/MyDrive/donate-a-cry-dataset/output_data/hungry_output/F4A65A98-ADEE-49C4-9B45-65A8429DF170-1430232330-1.0-m-72-hu.png to /content/drive/MyDrive/donate-a-cry-dataset/donateacry_corpus/hungry_train\n",
            "Moved /content/drive/MyDrive/donate-a-cry-dataset/output_data/hungry_output/F95D4BCE-2FB0-4A0C-A058-BFB0674539AF-1430055800-1.0-m-26-hu.png to /content/drive/MyDrive/donate-a-cry-dataset/donateacry_corpus/hungry_train\n",
            "Moved /content/drive/MyDrive/donate-a-cry-dataset/output_data/hungry_output/F95D4BCE-2FB0-4A0C-A058-BFB0674539AF-1430055950-1.0-m-26-hu.png to /content/drive/MyDrive/donate-a-cry-dataset/donateacry_corpus/hungry_train\n",
            "Moved /content/drive/MyDrive/donate-a-cry-dataset/output_data/hungry_output/F95D4BCE-2FB0-4A0C-A058-BFB0674539AF-1430055809-1.0-m-26-hu.png to /content/drive/MyDrive/donate-a-cry-dataset/donateacry_corpus/hungry_train\n",
            "Moved /content/drive/MyDrive/donate-a-cry-dataset/output_data/hungry_output/FAE74A94-9968-43ED-958C-50D7C4C1F13C-1430770871-1.0-f-22-hu.png to /content/drive/MyDrive/donate-a-cry-dataset/donateacry_corpus/hungry_train\n",
            "Moved /content/drive/MyDrive/donate-a-cry-dataset/output_data/hungry_output/FAE74A94-9968-43ED-958C-50D7C4C1F13C-1430770858-1.0-f-22-hu.png to /content/drive/MyDrive/donate-a-cry-dataset/donateacry_corpus/hungry_train\n",
            "Moved /content/drive/MyDrive/donate-a-cry-dataset/output_data/hungry_output/a40b9b8d-e4bc-457a-badf-f38bdbc0c358-1430016779981-1.7-m-26-hu.png to /content/drive/MyDrive/donate-a-cry-dataset/donateacry_corpus/hungry_train\n",
            "Moved /content/drive/MyDrive/donate-a-cry-dataset/output_data/hungry_output/FF482278-24C9-4FB0-A7BE-FD92D1FE17B4-1430028319-1.0-m-26-hu.png to /content/drive/MyDrive/donate-a-cry-dataset/donateacry_corpus/hungry_train\n",
            "Moved /content/drive/MyDrive/donate-a-cry-dataset/output_data/hungry_output/a7b13b65-da2c-48ec-8aed-46adcaba705f-1430823489236-1.7-f-26-hu.png to /content/drive/MyDrive/donate-a-cry-dataset/donateacry_corpus/hungry_train\n",
            "Moved /content/drive/MyDrive/donate-a-cry-dataset/output_data/hungry_output/a40b9b8d-e4bc-457a-badf-f38bdbc0c358-1430017191818-1.7-m-26-hu.png to /content/drive/MyDrive/donate-a-cry-dataset/donateacry_corpus/hungry_train\n",
            "Moved /content/drive/MyDrive/donate-a-cry-dataset/output_data/hungry_output/a56e2494-d2b2-480e-af0b-de9ea8f33572-1436897427825-1.7-f-26-hu.png to /content/drive/MyDrive/donate-a-cry-dataset/donateacry_corpus/hungry_train\n",
            "Moved /content/drive/MyDrive/donate-a-cry-dataset/output_data/hungry_output/ad7fd28b-3e85-4e9b-9e18-af4bda64c60f-1430756389867-1.7-m-72-hu.png to /content/drive/MyDrive/donate-a-cry-dataset/donateacry_corpus/hungry_train\n",
            "Moved /content/drive/MyDrive/donate-a-cry-dataset/output_data/hungry_output/adb53808-8b13-4c08-b055-6653c75298be-1430133962749-1.7-m-72-hu.png to /content/drive/MyDrive/donate-a-cry-dataset/donateacry_corpus/hungry_train\n",
            "Moved /content/drive/MyDrive/donate-a-cry-dataset/output_data/hungry_output/adb53808-8b13-4c08-b055-6653c75298be-1430133982281-1.7-m-72-hu.png to /content/drive/MyDrive/donate-a-cry-dataset/donateacry_corpus/hungry_train\n",
            "Moved /content/drive/MyDrive/donate-a-cry-dataset/output_data/hungry_output/af30880e-5f98-4dc0-b37a-be6b21fa0ba3-1431240037389-1.7-m-26-hu.png to /content/drive/MyDrive/donate-a-cry-dataset/donateacry_corpus/hungry_train\n",
            "Moved /content/drive/MyDrive/donate-a-cry-dataset/output_data/hungry_output/ae5f103b-5fee-442f-bb1b-d9d0570c46ab-1431533809819-1.7-m-26-hu.png to /content/drive/MyDrive/donate-a-cry-dataset/donateacry_corpus/hungry_train\n",
            "Moved /content/drive/MyDrive/donate-a-cry-dataset/output_data/hungry_output/ae5a462b-5424-4b5b-82d5-07ccb61654ab-1431155960186-1.7-f-48-hu.png to /content/drive/MyDrive/donate-a-cry-dataset/donateacry_corpus/hungry_train\n",
            "Moved /content/drive/MyDrive/donate-a-cry-dataset/output_data/hungry_output/b4c460d8-bd6b-4017-9bb8-2ae4ff0c5af1-1432751065608-1.7-f-26-hu.png to /content/drive/MyDrive/donate-a-cry-dataset/donateacry_corpus/hungry_train\n",
            "Moved /content/drive/MyDrive/donate-a-cry-dataset/output_data/hungry_output/b8fe4527-5e46-437f-897d-be32112bc1c8-1430166086647-1.7-f-48-hu.png to /content/drive/MyDrive/donate-a-cry-dataset/donateacry_corpus/hungry_train\n",
            "Moved /content/drive/MyDrive/donate-a-cry-dataset/output_data/hungry_output/bb2bdafb-0477-4be4-8c41-1a6192e8c6d4-1430637736064-1.7-m-72-hu.png to /content/drive/MyDrive/donate-a-cry-dataset/donateacry_corpus/hungry_train\n",
            "Moved /content/drive/MyDrive/donate-a-cry-dataset/output_data/hungry_output/bb2bdafb-0477-4be4-8c41-1a6192e8c6d4-1430637663087-1.7-m-72-hu.png to /content/drive/MyDrive/donate-a-cry-dataset/donateacry_corpus/hungry_train\n",
            "Moved /content/drive/MyDrive/donate-a-cry-dataset/output_data/hungry_output/bb2bdafb-0477-4be4-8c41-1a6192e8c6d4-1430637640279-1.7-m-72-hu.png to /content/drive/MyDrive/donate-a-cry-dataset/donateacry_corpus/hungry_train\n",
            "Moved /content/drive/MyDrive/donate-a-cry-dataset/output_data/hungry_output/b9d0daab-43c8-41f1-86af-3bcdea9af63c-1429979961789-1.7-f-22-hu.png to /content/drive/MyDrive/donate-a-cry-dataset/donateacry_corpus/hungry_train\n",
            "Moved /content/drive/MyDrive/donate-a-cry-dataset/output_data/hungry_output/bfbc4d23-39b2-4b33-b686-2f048f062b60-1430077722675-1.7-f-72-hu.png to /content/drive/MyDrive/donate-a-cry-dataset/donateacry_corpus/hungry_train\n",
            "Moved /content/drive/MyDrive/donate-a-cry-dataset/output_data/hungry_output/c10e2b0f-0cb8-4485-b82f-d453edf97db7-1430738986076-1.7-f-26-hu.png to /content/drive/MyDrive/donate-a-cry-dataset/donateacry_corpus/hungry_train\n",
            "Moved /content/drive/MyDrive/donate-a-cry-dataset/output_data/hungry_output/be21ef2a-a415-4e8b-bfe6-731bf9956e2c-1431320909516-1.7-f-26-hu.png to /content/drive/MyDrive/donate-a-cry-dataset/donateacry_corpus/hungry_train\n",
            "Moved /content/drive/MyDrive/donate-a-cry-dataset/output_data/hungry_output/c10e2b0f-0cb8-4485-b82f-d453edf97db7-1430739158854-1.7-f-26-hu.png to /content/drive/MyDrive/donate-a-cry-dataset/donateacry_corpus/hungry_train\n",
            "Moved /content/drive/MyDrive/donate-a-cry-dataset/output_data/hungry_output/c42e76b9-a4c1-48f6-a91d-27ab83015874-1430737177322-1.7-f-72-hu.png to /content/drive/MyDrive/donate-a-cry-dataset/donateacry_corpus/hungry_train\n",
            "Moved /content/drive/MyDrive/donate-a-cry-dataset/output_data/hungry_output/c10e2b0f-0cb8-4485-b82f-d453edf97db7-1430739179429-1.7-f-26-hu.png to /content/drive/MyDrive/donate-a-cry-dataset/donateacry_corpus/hungry_train\n",
            "Moved /content/drive/MyDrive/donate-a-cry-dataset/output_data/hungry_output/c6fd9d60-0fa7-44c0-b3ce-0192527d7b81-1430068167526-1.7-m-72-hu.png to /content/drive/MyDrive/donate-a-cry-dataset/donateacry_corpus/hungry_train\n",
            "Moved /content/drive/MyDrive/donate-a-cry-dataset/output_data/hungry_output/c6fd9d60-0fa7-44c0-b3ce-0192527d7b81-1430066825817-1.7-m-72-hu.png to /content/drive/MyDrive/donate-a-cry-dataset/donateacry_corpus/hungry_train\n",
            "Moved /content/drive/MyDrive/donate-a-cry-dataset/output_data/hungry_output/c6fd9d60-0fa7-44c0-b3ce-0192527d7b81-1430068155237-1.7-m-72-hu.png to /content/drive/MyDrive/donate-a-cry-dataset/donateacry_corpus/hungry_train\n",
            "Moved /content/drive/MyDrive/donate-a-cry-dataset/output_data/hungry_output/cde108d0-62c3-47f8-82c4-233c9fba5cdd-1436884406827-1.7-m-48-hu.png to /content/drive/MyDrive/donate-a-cry-dataset/donateacry_corpus/hungry_train\n",
            "Moved /content/drive/MyDrive/donate-a-cry-dataset/output_data/hungry_output/ca7d8d54-13cb-4060-8db4-90651b60c078-1434674769219-1.7-f-26-hu.png to /content/drive/MyDrive/donate-a-cry-dataset/donateacry_corpus/hungry_train\n",
            "Moved /content/drive/MyDrive/donate-a-cry-dataset/output_data/hungry_output/cda99fcf-d010-47b4-8987-f54be313ddbd-1429973787766-1.7-f-26-hu.png to /content/drive/MyDrive/donate-a-cry-dataset/donateacry_corpus/hungry_train\n",
            "Moved /content/drive/MyDrive/donate-a-cry-dataset/output_data/hungry_output/cde108d0-62c3-47f8-82c4-233c9fba5cdd-1436884444242-1.7-m-48-hu.png to /content/drive/MyDrive/donate-a-cry-dataset/donateacry_corpus/hungry_train\n",
            "Moved /content/drive/MyDrive/donate-a-cry-dataset/output_data/hungry_output/cecd525b-18fd-49e3-b2b9-dfb08b93ad95-1430109958636-1.7-m-26-hu.png to /content/drive/MyDrive/donate-a-cry-dataset/donateacry_corpus/hungry_train\n",
            "Moved /content/drive/MyDrive/donate-a-cry-dataset/output_data/hungry_output/d6cda191-4962-4308-9a36-46d5648a95ed-1428333797380-1.5-f-26-hu.png to /content/drive/MyDrive/donate-a-cry-dataset/donateacry_corpus/hungry_train\n",
            "Moved /content/drive/MyDrive/donate-a-cry-dataset/output_data/hungry_output/dc5429de-26b4-48e2-bc47-bc607b9bba06-1430741828918-1.7-f-72-hu.png to /content/drive/MyDrive/donate-a-cry-dataset/donateacry_corpus/hungry_train\n",
            "Moved /content/drive/MyDrive/donate-a-cry-dataset/output_data/hungry_output/d79affbc-f7b4-4ef0-ae57-be5da4b827bf-1430761528998-1.7-m-72-hu.png to /content/drive/MyDrive/donate-a-cry-dataset/donateacry_corpus/hungry_train\n",
            "Moved /content/drive/MyDrive/donate-a-cry-dataset/output_data/hungry_output/d79affbc-f7b4-4ef0-ae57-be5da4b827bf-1430761514476-1.7-m-72-hu.png to /content/drive/MyDrive/donate-a-cry-dataset/donateacry_corpus/hungry_train\n",
            "Moved /content/drive/MyDrive/donate-a-cry-dataset/output_data/hungry_output/e0717ce2-da25-417c-89a5-58d7175f4a6d-1436966513203-1.7-m-26-hu.png to /content/drive/MyDrive/donate-a-cry-dataset/donateacry_corpus/hungry_train\n",
            "Moved /content/drive/MyDrive/donate-a-cry-dataset/output_data/hungry_output/e1e640e2-78cb-4cb7-9ccc-93813bfc251c-1430738640598-1.7-m-72-hu.png to /content/drive/MyDrive/donate-a-cry-dataset/donateacry_corpus/hungry_train\n",
            "Moved /content/drive/MyDrive/donate-a-cry-dataset/output_data/hungry_output/e1e640e2-78cb-4cb7-9ccc-93813bfc251c-1430738652322-1.7-m-72-hu.png to /content/drive/MyDrive/donate-a-cry-dataset/donateacry_corpus/hungry_train\n",
            "Moved /content/drive/MyDrive/donate-a-cry-dataset/output_data/hungry_output/e37c323c-0edb-4942-be47-3cc0b2de00a1-1434392919844-1.7-f-26-hu.png to /content/drive/MyDrive/donate-a-cry-dataset/donateacry_corpus/hungry_train\n",
            "Moved /content/drive/MyDrive/donate-a-cry-dataset/output_data/hungry_output/e37c323c-0edb-4942-be47-3cc0b2de00a1-1434392936735-1.7-f-26-hu.png to /content/drive/MyDrive/donate-a-cry-dataset/donateacry_corpus/hungry_train\n",
            "Moved /content/drive/MyDrive/donate-a-cry-dataset/output_data/hungry_output/e4051e62-d21d-4bb8-a235-fd7e859ad787-1430740613780-1.7-f-72-hu.png to /content/drive/MyDrive/donate-a-cry-dataset/donateacry_corpus/hungry_train\n",
            "Moved /content/drive/MyDrive/donate-a-cry-dataset/output_data/hungry_output/eccb4617-8373-4c4f-b49e-bb2d72bce8d8-1430035348191-1.7-m-26-hu.png to /content/drive/MyDrive/donate-a-cry-dataset/donateacry_corpus/hungry_train\n",
            "Moved /content/drive/MyDrive/donate-a-cry-dataset/output_data/hungry_output/ed31b187-34af-4ff1-979c-3b8a5905fb7b-1430044897699-1.7-f-48-hu.png to /content/drive/MyDrive/donate-a-cry-dataset/donateacry_corpus/hungry_train\n",
            "Moved /content/drive/MyDrive/donate-a-cry-dataset/output_data/hungry_output/edb5924c-07ba-4eaa-838b-aaf9511a219b-1431899400326-1.7-m-48-hu.png to /content/drive/MyDrive/donate-a-cry-dataset/donateacry_corpus/hungry_train\n",
            "Moved /content/drive/MyDrive/donate-a-cry-dataset/output_data/hungry_output/efd13da0-d40e-48bc-b14e-dee28af4d3c6-1430728179252-1.7-m-22-hu.png to /content/drive/MyDrive/donate-a-cry-dataset/donateacry_corpus/hungry_train\n",
            "Moved /content/drive/MyDrive/donate-a-cry-dataset/output_data/hungry_output/f5b29377-7cd6-4688-942c-5a07add39dc5-1437178455960-1.7-f-26-hu.png to /content/drive/MyDrive/donate-a-cry-dataset/donateacry_corpus/hungry_train\n",
            "Moved /content/drive/MyDrive/donate-a-cry-dataset/output_data/hungry_output/edb5924c-07ba-4eaa-838b-aaf9511a219b-1431894189631-1.7-m-48-hu.png to /content/drive/MyDrive/donate-a-cry-dataset/donateacry_corpus/hungry_train\n",
            "Moved /content/drive/MyDrive/donate-a-cry-dataset/output_data/hungry_output/f896b69d-6241-4b51-9c45-0d628bc827c1-1430090400166-1.7-m-72-hu.png to /content/drive/MyDrive/donate-a-cry-dataset/donateacry_corpus/hungry_train\n",
            "Moved /content/drive/MyDrive/donate-a-cry-dataset/output_data/burping_output/5afc6a14-a9d8-45f8-b31d-c79dd87cc8c6-1430757039803-1.7-m-48-bu.png to /content/drive/MyDrive/donate-a-cry-dataset/donateacry_corpus/burping_train\n",
            "Moved /content/drive/MyDrive/donate-a-cry-dataset/output_data/burping_output/79FF400A-97E2-4701-987D-C7C850D5523C-1430089648-1.0-f-48-bu.png to /content/drive/MyDrive/donate-a-cry-dataset/donateacry_corpus/burping_train\n",
            "Moved /content/drive/MyDrive/donate-a-cry-dataset/output_data/burping_output/7A864194-4B6B-4850-ABBF-0C2A8170107B-1436846915-1.1-f-26-bu.png to /content/drive/MyDrive/donate-a-cry-dataset/donateacry_corpus/burping_train\n",
            "Moved /content/drive/MyDrive/donate-a-cry-dataset/output_data/burping_output/7E4B9C14-F955-4BED-9B03-7F3096A6CBFF-1430232208-1.0-f-26-bu.png to /content/drive/MyDrive/donate-a-cry-dataset/donateacry_corpus/burping_train\n",
            "Moved /content/drive/MyDrive/donate-a-cry-dataset/output_data/burping_output/7E4B9C14-F955-4BED-9B03-7F3096A6CBFF-1430540826-1.0-f-26-bu.png to /content/drive/MyDrive/donate-a-cry-dataset/donateacry_corpus/burping_train\n",
            "Moved /content/drive/MyDrive/donate-a-cry-dataset/output_data/burping_output/AEA8AE04-D00E-48A7-8A0B-6D87E2175121-1430563241-1.0-f-72-bu.png to /content/drive/MyDrive/donate-a-cry-dataset/donateacry_corpus/burping_train\n",
            "Moved /content/drive/MyDrive/donate-a-cry-dataset/output_data/burping_output/af30880e-5f98-4dc0-b37a-be6b21fa0ba3-1431240072536-1.7-m-26-bu.png to /content/drive/MyDrive/donate-a-cry-dataset/donateacry_corpus/burping_train\n",
            "Moved /content/drive/MyDrive/donate-a-cry-dataset/output_data/discomfort_output/1309B82C-F146-46F0-A723-45345AFA6EA8-1430704008-1.0-f-48-dc.png to /content/drive/MyDrive/donate-a-cry-dataset/donateacry_corpus/discomfort_train\n",
            "Moved /content/drive/MyDrive/donate-a-cry-dataset/output_data/discomfort_output/11417AC2-DCC9-48CD-8177-CA8665E51B2F-1436881512-1.1-m-48-dc.png to /content/drive/MyDrive/donate-a-cry-dataset/donateacry_corpus/discomfort_train\n",
            "Moved /content/drive/MyDrive/donate-a-cry-dataset/output_data/discomfort_output/2294E2B2-8E36-4DA6-A898-B947CB9446AB-1436462707-1.1-m-26-dc.png to /content/drive/MyDrive/donate-a-cry-dataset/donateacry_corpus/discomfort_train\n",
            "Moved /content/drive/MyDrive/donate-a-cry-dataset/output_data/discomfort_output/10A40438-09AA-4A21-83B4-8119F03F7A11-1430925142-1.0-f-26-dc.png to /content/drive/MyDrive/donate-a-cry-dataset/donateacry_corpus/discomfort_train\n",
            "Moved /content/drive/MyDrive/donate-a-cry-dataset/output_data/discomfort_output/1309B82C-F146-46F0-A723-45345AFA6EA8-1430703937-1.0-f-48-dc.png to /content/drive/MyDrive/donate-a-cry-dataset/donateacry_corpus/discomfort_train\n",
            "Moved /content/drive/MyDrive/donate-a-cry-dataset/output_data/discomfort_output/1309B82C-F146-46F0-A723-45345AFA6EA8-1432801703-1.1-f-26-dc.png to /content/drive/MyDrive/donate-a-cry-dataset/donateacry_corpus/discomfort_train\n",
            "Moved /content/drive/MyDrive/donate-a-cry-dataset/output_data/discomfort_output/64acb345-a61e-4ef3-a5a6-cf83c04b83f1-1430058990597-1.7-m-72-dc.png to /content/drive/MyDrive/donate-a-cry-dataset/donateacry_corpus/discomfort_train\n",
            "Moved /content/drive/MyDrive/donate-a-cry-dataset/output_data/discomfort_output/1309B82C-F146-46F0-A723-45345AFA6EA8-1432801693-1.1-f-26-dc.png to /content/drive/MyDrive/donate-a-cry-dataset/donateacry_corpus/discomfort_train\n",
            "Moved /content/drive/MyDrive/donate-a-cry-dataset/output_data/discomfort_output/64acb345-a61e-4ef3-a5a6-cf83c04b83f1-1430059012473-1.7-m-72-dc.png to /content/drive/MyDrive/donate-a-cry-dataset/donateacry_corpus/discomfort_train\n",
            "Moved /content/drive/MyDrive/donate-a-cry-dataset/output_data/discomfort_output/999bf14b-e417-4b44-b746-9253f81efe38-1430845018393-1.7-m-26-ch.png to /content/drive/MyDrive/donate-a-cry-dataset/donateacry_corpus/discomfort_train\n",
            "Moved /content/drive/MyDrive/donate-a-cry-dataset/output_data/discomfort_output/79FF400A-97E2-4701-987D-C7C850D5523C-1430089688-1.0-f-48-dc.png to /content/drive/MyDrive/donate-a-cry-dataset/donateacry_corpus/discomfort_train\n",
            "Moved /content/drive/MyDrive/donate-a-cry-dataset/output_data/discomfort_output/837fd072-8704-4196-9ff1-1d2c07886e55-1432429478471-1.7-m-22-dc.png to /content/drive/MyDrive/donate-a-cry-dataset/donateacry_corpus/discomfort_train\n",
            "Moved /content/drive/MyDrive/donate-a-cry-dataset/output_data/discomfort_output/665BDF6D-2897-49F9-8AD0-978B3B2A0468-1430530218-1.0-m-26-dc.png to /content/drive/MyDrive/donate-a-cry-dataset/donateacry_corpus/discomfort_train\n",
            "Moved /content/drive/MyDrive/donate-a-cry-dataset/output_data/discomfort_output/79FF400A-97E2-4701-987D-C7C850D5523C-1430089621-1.0-f-48-dc.png to /content/drive/MyDrive/donate-a-cry-dataset/donateacry_corpus/discomfort_train\n",
            "Moved /content/drive/MyDrive/donate-a-cry-dataset/output_data/discomfort_output/D1CB71F9-EF76-49B3-A703-41D557444D21-1436863419-1.1-f-26-dc.png to /content/drive/MyDrive/donate-a-cry-dataset/donateacry_corpus/discomfort_train\n",
            "Moved /content/drive/MyDrive/donate-a-cry-dataset/output_data/discomfort_output/999bf14b-e417-4b44-b746-9253f81efe38-1430845035663-1.7-m-26-ch.png to /content/drive/MyDrive/donate-a-cry-dataset/donateacry_corpus/discomfort_train\n",
            "Moved /content/drive/MyDrive/donate-a-cry-dataset/output_data/discomfort_output/a40b9b8d-e4bc-457a-badf-f38bdbc0c358-1430016981469-1.7-m-26-dc.png to /content/drive/MyDrive/donate-a-cry-dataset/donateacry_corpus/discomfort_train\n",
            "Moved /content/drive/MyDrive/donate-a-cry-dataset/output_data/discomfort_output/ae5a462b-5424-4b5b-82d5-07ccb61654ab-1431064345173-1.7-f-48-dc.png to /content/drive/MyDrive/donate-a-cry-dataset/donateacry_corpus/discomfort_train\n",
            "Moved /content/drive/MyDrive/donate-a-cry-dataset/output_data/discomfort_output/d6cda191-4962-4308-9a36-46d5648a95ed-1426942891562-1.4-f-48-dc.png to /content/drive/MyDrive/donate-a-cry-dataset/donateacry_corpus/discomfort_train\n",
            "Moved /content/drive/MyDrive/donate-a-cry-dataset/output_data/discomfort_output/f258a8e2-92cd-4843-9da4-80ed26ec8e10-1436944996156-1.7-f-26-ch.png to /content/drive/MyDrive/donate-a-cry-dataset/donateacry_corpus/discomfort_train\n",
            "Moved /content/drive/MyDrive/donate-a-cry-dataset/output_data/discomfort_output/f5b29377-7cd6-4688-942c-5a07add39dc5-1437480263225-1.7-f-26-dc.png to /content/drive/MyDrive/donate-a-cry-dataset/donateacry_corpus/discomfort_train\n",
            "Moved /content/drive/MyDrive/donate-a-cry-dataset/output_data/tired_output/06c4cfa2-7fa6-4fda-91a1-ea186a4acc64-1430029221058-1.7-f-26-ti.png to /content/drive/MyDrive/donate-a-cry-dataset/donateacry_corpus/tired_train\n",
            "Moved /content/drive/MyDrive/donate-a-cry-dataset/output_data/tired_output/06c4cfa2-7fa6-4fda-91a1-ea186a4acc64-1430029237378-1.7-f-26-ti.png to /content/drive/MyDrive/donate-a-cry-dataset/donateacry_corpus/tired_train\n",
            "Moved /content/drive/MyDrive/donate-a-cry-dataset/output_data/tired_output/06c4cfa2-7fa6-4fda-91a1-ea186a4acc64-1430029246453-1.7-f-26-ti.png to /content/drive/MyDrive/donate-a-cry-dataset/donateacry_corpus/tired_train\n",
            "Moved /content/drive/MyDrive/donate-a-cry-dataset/output_data/tired_output/1309B82C-F146-46F0-A723-45345AFA6EA8-1431172241-1.0-f-48-ti.png to /content/drive/MyDrive/donate-a-cry-dataset/donateacry_corpus/tired_train\n",
            "Moved /content/drive/MyDrive/donate-a-cry-dataset/output_data/tired_output/5B416CE8-2591-4531-9ADC-86D085B5D48B-1430144827-1.0-m-48-ti.png to /content/drive/MyDrive/donate-a-cry-dataset/donateacry_corpus/tired_train\n",
            "Moved /content/drive/MyDrive/donate-a-cry-dataset/output_data/tired_output/7A22229D-06C2-4AAA-9674-DE5DF1906B3A-1436891944-1.1-m-72-ti.png to /content/drive/MyDrive/donate-a-cry-dataset/donateacry_corpus/tired_train\n",
            "Moved /content/drive/MyDrive/donate-a-cry-dataset/output_data/tired_output/79FF400A-97E2-4701-987D-C7C850D5523C-1430089487-1.0-f-48-ti.png to /content/drive/MyDrive/donate-a-cry-dataset/donateacry_corpus/tired_train\n",
            "Moved /content/drive/MyDrive/donate-a-cry-dataset/output_data/tired_output/B2AABCE0-1F62-4B57-B58A-308959ABDFE7-1437188766-1.1-m-26-ti.png to /content/drive/MyDrive/donate-a-cry-dataset/donateacry_corpus/tired_train\n",
            "Moved /content/drive/MyDrive/donate-a-cry-dataset/output_data/tired_output/B2AABCE0-1F62-4B57-B58A-308959ABDFE7-1437188751-1.1-m-26-ti.png to /content/drive/MyDrive/donate-a-cry-dataset/donateacry_corpus/tired_train\n",
            "Moved /content/drive/MyDrive/donate-a-cry-dataset/output_data/tired_output/C421C6FE-DFEE-4080-8AEA-848E7CE4756B-1430548384-1.0-m-26-ti.png to /content/drive/MyDrive/donate-a-cry-dataset/donateacry_corpus/tired_train\n",
            "Moved /content/drive/MyDrive/donate-a-cry-dataset/output_data/tired_output/7A22229D-06C2-4AAA-9674-DE5DF1906B3A-1436891957-1.1-m-72-ti.png to /content/drive/MyDrive/donate-a-cry-dataset/donateacry_corpus/tired_train\n",
            "Moved /content/drive/MyDrive/donate-a-cry-dataset/output_data/tired_output/C5127741-5897-468C-A543-7F1B72569F0E-1428333964-1.0-m-26-ti.png to /content/drive/MyDrive/donate-a-cry-dataset/donateacry_corpus/tired_train\n",
            "Moved /content/drive/MyDrive/donate-a-cry-dataset/output_data/tired_output/C421C6FE-DFEE-4080-8AEA-848E7CE4756B-1430548393-1.0-f-26-ti.png to /content/drive/MyDrive/donate-a-cry-dataset/donateacry_corpus/tired_train\n",
            "Moved /content/drive/MyDrive/donate-a-cry-dataset/output_data/tired_output/D4665929-8695-4655-927F-63F09B2D4CB8-1430726940-1.0-f-26-ti.png to /content/drive/MyDrive/donate-a-cry-dataset/donateacry_corpus/tired_train\n",
            "Moved /content/drive/MyDrive/donate-a-cry-dataset/output_data/tired_output/ca7d8d54-13cb-4060-8db4-90651b60c078-1434674792223-1.7-f-26-ti.png to /content/drive/MyDrive/donate-a-cry-dataset/donateacry_corpus/tired_train\n",
            "Moved /content/drive/MyDrive/donate-a-cry-dataset/output_data/tired_output/b4c460d8-bd6b-4017-9bb8-2ae4ff0c5af1-1430418266487-1.7-f-26-ti.png to /content/drive/MyDrive/donate-a-cry-dataset/donateacry_corpus/tired_train\n",
            "Moved /content/drive/MyDrive/donate-a-cry-dataset/output_data/tired_output/cecd525b-18fd-49e3-b2b9-dfb08b93ad95-1430110029205-1.7-m-26-ti.png to /content/drive/MyDrive/donate-a-cry-dataset/donateacry_corpus/tired_train\n",
            "Moved /content/drive/MyDrive/donate-a-cry-dataset/output_data/tired_output/eea17285-4ab9-4d34-a2f5-55fc8c866ac6-1431887695278-1.7-f-26-ti.png to /content/drive/MyDrive/donate-a-cry-dataset/donateacry_corpus/tired_train\n"
          ]
        }
      ],
      "source": [
        "\"\"\"\n",
        "from pathlib import Path\n",
        "import shutil\n",
        "\n",
        "def move_files(source_pattern, destination_path):\n",
        "    # Cria o diretório de destino se não existir\n",
        "    destination = Path(destination_path)\n",
        "    destination.mkdir(parents=True, exist_ok=True)\n",
        "\n",
        "    # Obtém o diretório de origem a partir do padrão\n",
        "    source_dir = Path(source_pattern).parent\n",
        "    file_pattern = Path(source_pattern).name\n",
        "\n",
        "    # Encontra e move os arquivos que correspondem ao padrão\n",
        "    for file_path in source_dir.glob(file_pattern):\n",
        "        shutil.move(str(file_path), destination)\n",
        "        print(f\"Moved {file_path} to {destination}\")\n",
        "\n",
        "# Define seus diretórios e padrões de origem\n",
        "directories = {\n",
        "    r'/content/drive/MyDrive/donate-a-cry-dataset/donateacry_corpus/belly_pain_train/': r'/content/drive/MyDrive/donate-a-cry-dataset/output_data/belly_pain_output/*.png',\n",
        "    r'/content/drive/MyDrive/donate-a-cry-dataset/donateacry_corpus/hungry_train/': r'/content/drive/MyDrive/donate-a-cry-dataset/output_data/hungry_output/*.png',\n",
        "    r'/content/drive/MyDrive/donate-a-cry-dataset/donateacry_corpus/burping_train/': r'/content/drive/MyDrive/donate-a-cry-dataset/output_data/burping_output/*.png',\n",
        "    r'/content/drive/MyDrive/donate-a-cry-dataset/donateacry_corpus/discomfort_train/': r'/content/drive/MyDrive/donate-a-cry-dataset/output_data/discomfort_output/*.png',\n",
        "    r'/content/drive/MyDrive/donate-a-cry-dataset/donateacry_corpus/tired_train/': r'/content/drive/MyDrive/donate-a-cry-dataset/output_data/tired_output/*.png'\n",
        "}\n",
        "\n",
        "# Move os arquivos\n",
        "for directory, source_pattern in directories.items():\n",
        "    move_files(source_pattern, directory)\n",
        "\"\"\""
      ]
    },
    {
      "cell_type": "markdown",
      "metadata": {
        "id": "6VXkgyLaSyyO"
      },
      "source": [
        "Agora criamos as pastas de treino com os dados rotulados"
      ]
    },
    {
      "cell_type": "code",
      "execution_count": 5,
      "metadata": {
        "id": "HY_UPny5SyyO"
      },
      "outputs": [],
      "source": [
        "images, labels = load_images_from_path(r'/content/drive/MyDrive/donate-a-cry-dataset/donateacry_corpus/belly_pain_train', 0)\n",
        "\n",
        "x += images\n",
        "y += labels"
      ]
    },
    {
      "cell_type": "code",
      "execution_count": 6,
      "metadata": {
        "id": "Y59QAnmfSyyP"
      },
      "outputs": [],
      "source": [
        "images, labels = load_images_from_path(r'/content/drive/MyDrive/donate-a-cry-dataset/donateacry_corpus/hungry_train', 1)\n",
        "\n",
        "x += images\n",
        "y += labels"
      ]
    },
    {
      "cell_type": "code",
      "source": [
        "images, labels = load_images_from_path(r'/content/drive/MyDrive/donate-a-cry-dataset/donateacry_corpus/burping_train', 2)\n",
        "\n",
        "x += images\n",
        "y += labels"
      ],
      "metadata": {
        "id": "MAWfX520Yvze"
      },
      "execution_count": 7,
      "outputs": []
    },
    {
      "cell_type": "code",
      "source": [
        "images, labels = load_images_from_path(r'/content/drive/MyDrive/donate-a-cry-dataset/donateacry_corpus/discomfort_train', 3)\n",
        "\n",
        "x += images\n",
        "y += labels"
      ],
      "metadata": {
        "id": "bDteWnkXYzLq"
      },
      "execution_count": 8,
      "outputs": []
    },
    {
      "cell_type": "code",
      "source": [
        "images, labels = load_images_from_path(r'/content/drive/MyDrive/donate-a-cry-dataset/donateacry_corpus/tired_train', 4)\n",
        "\n",
        "x += images\n",
        "y += labels"
      ],
      "metadata": {
        "id": "0WMyiVE7Y3NH"
      },
      "execution_count": 9,
      "outputs": []
    },
    {
      "cell_type": "code",
      "execution_count": 10,
      "metadata": {
        "id": "8VP6py2_SyyP"
      },
      "outputs": [],
      "source": [
        "from tensorflow.keras.utils import to_categorical\n",
        "from sklearn.model_selection import train_test_split"
      ]
    },
    {
      "cell_type": "code",
      "source": [
        "y = np.array(y)"
      ],
      "metadata": {
        "id": "mvCFQfWIa317"
      },
      "execution_count": 11,
      "outputs": []
    },
    {
      "cell_type": "code",
      "execution_count": 12,
      "metadata": {
        "id": "CMK1qohuSyyP"
      },
      "outputs": [],
      "source": [
        "x_train, x_test, y_train, y_test = train_test_split(x, y, test_size=0.3, random_state=0)\n",
        "\n",
        "x_train_norm = np.array(x_train) / 255\n",
        "x_test_norm = np.array(x_test) / 255\n",
        "\n",
        "y_train_encoded = to_categorical(y_train)\n",
        "y_test_encoded = to_categorical(y_test)"
      ]
    },
    {
      "cell_type": "code",
      "source": [
        "\"\"\"\n",
        "from sklearn.utils.class_weight import compute_class_weight\n",
        "\n",
        "# Supondo que y_train seja o vetor de rótulos das classes antes de ser convertido com `to_categorical`\n",
        "class_weights = compute_class_weight(class_weight='balanced', classes=np.unique(y_train), y=y_train)\n",
        "class_weights = dict(enumerate(class_weights))\n",
        "\"\"\"\n"
      ],
      "metadata": {
        "id": "vqjLl_FteV2d"
      },
      "execution_count": 14,
      "outputs": []
    },
    {
      "cell_type": "code",
      "source": [
        "from tensorflow.keras.models import Sequential\n",
        "from tensorflow.keras.layers import Conv2D, MaxPooling2D, Flatten, Dense, Dropout, Normalization, Resizing, InputLayer\n",
        "from tensorflow.keras.optimizers import AdamW\n",
        "\n",
        "# Criação do modelo\n",
        "model = Sequential()\n",
        "\n",
        "# Entrada e pré-processamento\n",
        "model.add(InputLayer(input_shape=(224, 224, 3)))  # Define o tamanho de entrada da imagem\n",
        "model.add(Resizing(64, 64))                       # Redimensiona para reduzir a complexidade do modelo\n",
        "model.add(Normalization())                        # Normalização para estabilizar o treinamento\n",
        "\n",
        "# Camadas convolucionais\n",
        "model.add(Conv2D(64, kernel_size=(3, 3), strides=1, activation='relu', padding='same'))\n",
        "model.add(Conv2D(128, kernel_size=(3, 3), strides=1, activation='relu', padding='same'))\n",
        "model.add(MaxPooling2D(pool_size=(2, 2)))\n",
        "model.add(Dropout(0.3))\n",
        "\n",
        "# Camada convolucional adicional para maior capacidade de aprendizado\n",
        "model.add(Conv2D(256, kernel_size=(3, 3), strides=1, activation='relu', padding='same'))\n",
        "model.add(MaxPooling2D(pool_size=(2, 2)))\n",
        "model.add(Dropout(0.3))\n",
        "\n",
        "# Camada densa e saída\n",
        "model.add(Flatten())\n",
        "model.add(Dense(128, activation='relu'))          # Camada totalmente conectada\n",
        "model.add(Dropout(0.4))                           # Dropout para reduzir overfitting\n",
        "model.add(Dense(5, activation='softmax'))         # Saída para classificação multiclasse (5 classes)\n",
        "\n",
        "# Compilação do modelo\n",
        "model.compile(optimizer=AdamW(learning_rate=0.01), loss='categorical_crossentropy', metrics=['accuracy'])\n",
        "\n",
        "model.summary()\n"
      ],
      "metadata": {
        "colab": {
          "base_uri": "https://localhost:8080/",
          "height": 613
        },
        "id": "d-helybcZYMU",
        "outputId": "34df2ccb-c466-4da0-e444-be602a46eaa0"
      },
      "execution_count": 16,
      "outputs": [
        {
          "output_type": "stream",
          "name": "stderr",
          "text": [
            "/usr/local/lib/python3.10/dist-packages/keras/src/layers/core/input_layer.py:26: UserWarning: Argument `input_shape` is deprecated. Use `shape` instead.\n",
            "  warnings.warn(\n"
          ]
        },
        {
          "output_type": "display_data",
          "data": {
            "text/plain": [
              "\u001b[1mModel: \"sequential\"\u001b[0m\n"
            ],
            "text/html": [
              "<pre style=\"white-space:pre;overflow-x:auto;line-height:normal;font-family:Menlo,'DejaVu Sans Mono',consolas,'Courier New',monospace\"><span style=\"font-weight: bold\">Model: \"sequential\"</span>\n",
              "</pre>\n"
            ]
          },
          "metadata": {}
        },
        {
          "output_type": "display_data",
          "data": {
            "text/plain": [
              "┏━━━━━━━━━━━━━━━━━━━━━━━━━━━━━━━━━━━━━━┳━━━━━━━━━━━━━━━━━━━━━━━━━━━━━┳━━━━━━━━━━━━━━━━━┓\n",
              "┃\u001b[1m \u001b[0m\u001b[1mLayer (type)                        \u001b[0m\u001b[1m \u001b[0m┃\u001b[1m \u001b[0m\u001b[1mOutput Shape               \u001b[0m\u001b[1m \u001b[0m┃\u001b[1m \u001b[0m\u001b[1m        Param #\u001b[0m\u001b[1m \u001b[0m┃\n",
              "┡━━━━━━━━━━━━━━━━━━━━━━━━━━━━━━━━━━━━━━╇━━━━━━━━━━━━━━━━━━━━━━━━━━━━━╇━━━━━━━━━━━━━━━━━┩\n",
              "│ resizing (\u001b[38;5;33mResizing\u001b[0m)                  │ (\u001b[38;5;45mNone\u001b[0m, \u001b[38;5;34m64\u001b[0m, \u001b[38;5;34m64\u001b[0m, \u001b[38;5;34m3\u001b[0m)           │               \u001b[38;5;34m0\u001b[0m │\n",
              "├──────────────────────────────────────┼─────────────────────────────┼─────────────────┤\n",
              "│ normalization (\u001b[38;5;33mNormalization\u001b[0m)        │ (\u001b[38;5;45mNone\u001b[0m, \u001b[38;5;34m64\u001b[0m, \u001b[38;5;34m64\u001b[0m, \u001b[38;5;34m3\u001b[0m)           │               \u001b[38;5;34m7\u001b[0m │\n",
              "├──────────────────────────────────────┼─────────────────────────────┼─────────────────┤\n",
              "│ conv2d (\u001b[38;5;33mConv2D\u001b[0m)                      │ (\u001b[38;5;45mNone\u001b[0m, \u001b[38;5;34m64\u001b[0m, \u001b[38;5;34m64\u001b[0m, \u001b[38;5;34m64\u001b[0m)          │           \u001b[38;5;34m1,792\u001b[0m │\n",
              "├──────────────────────────────────────┼─────────────────────────────┼─────────────────┤\n",
              "│ conv2d_1 (\u001b[38;5;33mConv2D\u001b[0m)                    │ (\u001b[38;5;45mNone\u001b[0m, \u001b[38;5;34m64\u001b[0m, \u001b[38;5;34m64\u001b[0m, \u001b[38;5;34m128\u001b[0m)         │          \u001b[38;5;34m73,856\u001b[0m │\n",
              "├──────────────────────────────────────┼─────────────────────────────┼─────────────────┤\n",
              "│ max_pooling2d (\u001b[38;5;33mMaxPooling2D\u001b[0m)         │ (\u001b[38;5;45mNone\u001b[0m, \u001b[38;5;34m32\u001b[0m, \u001b[38;5;34m32\u001b[0m, \u001b[38;5;34m128\u001b[0m)         │               \u001b[38;5;34m0\u001b[0m │\n",
              "├──────────────────────────────────────┼─────────────────────────────┼─────────────────┤\n",
              "│ dropout (\u001b[38;5;33mDropout\u001b[0m)                    │ (\u001b[38;5;45mNone\u001b[0m, \u001b[38;5;34m32\u001b[0m, \u001b[38;5;34m32\u001b[0m, \u001b[38;5;34m128\u001b[0m)         │               \u001b[38;5;34m0\u001b[0m │\n",
              "├──────────────────────────────────────┼─────────────────────────────┼─────────────────┤\n",
              "│ conv2d_2 (\u001b[38;5;33mConv2D\u001b[0m)                    │ (\u001b[38;5;45mNone\u001b[0m, \u001b[38;5;34m32\u001b[0m, \u001b[38;5;34m32\u001b[0m, \u001b[38;5;34m256\u001b[0m)         │         \u001b[38;5;34m295,168\u001b[0m │\n",
              "├──────────────────────────────────────┼─────────────────────────────┼─────────────────┤\n",
              "│ max_pooling2d_1 (\u001b[38;5;33mMaxPooling2D\u001b[0m)       │ (\u001b[38;5;45mNone\u001b[0m, \u001b[38;5;34m16\u001b[0m, \u001b[38;5;34m16\u001b[0m, \u001b[38;5;34m256\u001b[0m)         │               \u001b[38;5;34m0\u001b[0m │\n",
              "├──────────────────────────────────────┼─────────────────────────────┼─────────────────┤\n",
              "│ dropout_1 (\u001b[38;5;33mDropout\u001b[0m)                  │ (\u001b[38;5;45mNone\u001b[0m, \u001b[38;5;34m16\u001b[0m, \u001b[38;5;34m16\u001b[0m, \u001b[38;5;34m256\u001b[0m)         │               \u001b[38;5;34m0\u001b[0m │\n",
              "├──────────────────────────────────────┼─────────────────────────────┼─────────────────┤\n",
              "│ flatten (\u001b[38;5;33mFlatten\u001b[0m)                    │ (\u001b[38;5;45mNone\u001b[0m, \u001b[38;5;34m65536\u001b[0m)               │               \u001b[38;5;34m0\u001b[0m │\n",
              "├──────────────────────────────────────┼─────────────────────────────┼─────────────────┤\n",
              "│ dense (\u001b[38;5;33mDense\u001b[0m)                        │ (\u001b[38;5;45mNone\u001b[0m, \u001b[38;5;34m128\u001b[0m)                 │       \u001b[38;5;34m8,388,736\u001b[0m │\n",
              "├──────────────────────────────────────┼─────────────────────────────┼─────────────────┤\n",
              "│ dropout_2 (\u001b[38;5;33mDropout\u001b[0m)                  │ (\u001b[38;5;45mNone\u001b[0m, \u001b[38;5;34m128\u001b[0m)                 │               \u001b[38;5;34m0\u001b[0m │\n",
              "├──────────────────────────────────────┼─────────────────────────────┼─────────────────┤\n",
              "│ dense_1 (\u001b[38;5;33mDense\u001b[0m)                      │ (\u001b[38;5;45mNone\u001b[0m, \u001b[38;5;34m5\u001b[0m)                   │             \u001b[38;5;34m645\u001b[0m │\n",
              "└──────────────────────────────────────┴─────────────────────────────┴─────────────────┘\n"
            ],
            "text/html": [
              "<pre style=\"white-space:pre;overflow-x:auto;line-height:normal;font-family:Menlo,'DejaVu Sans Mono',consolas,'Courier New',monospace\">┏━━━━━━━━━━━━━━━━━━━━━━━━━━━━━━━━━━━━━━┳━━━━━━━━━━━━━━━━━━━━━━━━━━━━━┳━━━━━━━━━━━━━━━━━┓\n",
              "┃<span style=\"font-weight: bold\"> Layer (type)                         </span>┃<span style=\"font-weight: bold\"> Output Shape                </span>┃<span style=\"font-weight: bold\">         Param # </span>┃\n",
              "┡━━━━━━━━━━━━━━━━━━━━━━━━━━━━━━━━━━━━━━╇━━━━━━━━━━━━━━━━━━━━━━━━━━━━━╇━━━━━━━━━━━━━━━━━┩\n",
              "│ resizing (<span style=\"color: #0087ff; text-decoration-color: #0087ff\">Resizing</span>)                  │ (<span style=\"color: #00d7ff; text-decoration-color: #00d7ff\">None</span>, <span style=\"color: #00af00; text-decoration-color: #00af00\">64</span>, <span style=\"color: #00af00; text-decoration-color: #00af00\">64</span>, <span style=\"color: #00af00; text-decoration-color: #00af00\">3</span>)           │               <span style=\"color: #00af00; text-decoration-color: #00af00\">0</span> │\n",
              "├──────────────────────────────────────┼─────────────────────────────┼─────────────────┤\n",
              "│ normalization (<span style=\"color: #0087ff; text-decoration-color: #0087ff\">Normalization</span>)        │ (<span style=\"color: #00d7ff; text-decoration-color: #00d7ff\">None</span>, <span style=\"color: #00af00; text-decoration-color: #00af00\">64</span>, <span style=\"color: #00af00; text-decoration-color: #00af00\">64</span>, <span style=\"color: #00af00; text-decoration-color: #00af00\">3</span>)           │               <span style=\"color: #00af00; text-decoration-color: #00af00\">7</span> │\n",
              "├──────────────────────────────────────┼─────────────────────────────┼─────────────────┤\n",
              "│ conv2d (<span style=\"color: #0087ff; text-decoration-color: #0087ff\">Conv2D</span>)                      │ (<span style=\"color: #00d7ff; text-decoration-color: #00d7ff\">None</span>, <span style=\"color: #00af00; text-decoration-color: #00af00\">64</span>, <span style=\"color: #00af00; text-decoration-color: #00af00\">64</span>, <span style=\"color: #00af00; text-decoration-color: #00af00\">64</span>)          │           <span style=\"color: #00af00; text-decoration-color: #00af00\">1,792</span> │\n",
              "├──────────────────────────────────────┼─────────────────────────────┼─────────────────┤\n",
              "│ conv2d_1 (<span style=\"color: #0087ff; text-decoration-color: #0087ff\">Conv2D</span>)                    │ (<span style=\"color: #00d7ff; text-decoration-color: #00d7ff\">None</span>, <span style=\"color: #00af00; text-decoration-color: #00af00\">64</span>, <span style=\"color: #00af00; text-decoration-color: #00af00\">64</span>, <span style=\"color: #00af00; text-decoration-color: #00af00\">128</span>)         │          <span style=\"color: #00af00; text-decoration-color: #00af00\">73,856</span> │\n",
              "├──────────────────────────────────────┼─────────────────────────────┼─────────────────┤\n",
              "│ max_pooling2d (<span style=\"color: #0087ff; text-decoration-color: #0087ff\">MaxPooling2D</span>)         │ (<span style=\"color: #00d7ff; text-decoration-color: #00d7ff\">None</span>, <span style=\"color: #00af00; text-decoration-color: #00af00\">32</span>, <span style=\"color: #00af00; text-decoration-color: #00af00\">32</span>, <span style=\"color: #00af00; text-decoration-color: #00af00\">128</span>)         │               <span style=\"color: #00af00; text-decoration-color: #00af00\">0</span> │\n",
              "├──────────────────────────────────────┼─────────────────────────────┼─────────────────┤\n",
              "│ dropout (<span style=\"color: #0087ff; text-decoration-color: #0087ff\">Dropout</span>)                    │ (<span style=\"color: #00d7ff; text-decoration-color: #00d7ff\">None</span>, <span style=\"color: #00af00; text-decoration-color: #00af00\">32</span>, <span style=\"color: #00af00; text-decoration-color: #00af00\">32</span>, <span style=\"color: #00af00; text-decoration-color: #00af00\">128</span>)         │               <span style=\"color: #00af00; text-decoration-color: #00af00\">0</span> │\n",
              "├──────────────────────────────────────┼─────────────────────────────┼─────────────────┤\n",
              "│ conv2d_2 (<span style=\"color: #0087ff; text-decoration-color: #0087ff\">Conv2D</span>)                    │ (<span style=\"color: #00d7ff; text-decoration-color: #00d7ff\">None</span>, <span style=\"color: #00af00; text-decoration-color: #00af00\">32</span>, <span style=\"color: #00af00; text-decoration-color: #00af00\">32</span>, <span style=\"color: #00af00; text-decoration-color: #00af00\">256</span>)         │         <span style=\"color: #00af00; text-decoration-color: #00af00\">295,168</span> │\n",
              "├──────────────────────────────────────┼─────────────────────────────┼─────────────────┤\n",
              "│ max_pooling2d_1 (<span style=\"color: #0087ff; text-decoration-color: #0087ff\">MaxPooling2D</span>)       │ (<span style=\"color: #00d7ff; text-decoration-color: #00d7ff\">None</span>, <span style=\"color: #00af00; text-decoration-color: #00af00\">16</span>, <span style=\"color: #00af00; text-decoration-color: #00af00\">16</span>, <span style=\"color: #00af00; text-decoration-color: #00af00\">256</span>)         │               <span style=\"color: #00af00; text-decoration-color: #00af00\">0</span> │\n",
              "├──────────────────────────────────────┼─────────────────────────────┼─────────────────┤\n",
              "│ dropout_1 (<span style=\"color: #0087ff; text-decoration-color: #0087ff\">Dropout</span>)                  │ (<span style=\"color: #00d7ff; text-decoration-color: #00d7ff\">None</span>, <span style=\"color: #00af00; text-decoration-color: #00af00\">16</span>, <span style=\"color: #00af00; text-decoration-color: #00af00\">16</span>, <span style=\"color: #00af00; text-decoration-color: #00af00\">256</span>)         │               <span style=\"color: #00af00; text-decoration-color: #00af00\">0</span> │\n",
              "├──────────────────────────────────────┼─────────────────────────────┼─────────────────┤\n",
              "│ flatten (<span style=\"color: #0087ff; text-decoration-color: #0087ff\">Flatten</span>)                    │ (<span style=\"color: #00d7ff; text-decoration-color: #00d7ff\">None</span>, <span style=\"color: #00af00; text-decoration-color: #00af00\">65536</span>)               │               <span style=\"color: #00af00; text-decoration-color: #00af00\">0</span> │\n",
              "├──────────────────────────────────────┼─────────────────────────────┼─────────────────┤\n",
              "│ dense (<span style=\"color: #0087ff; text-decoration-color: #0087ff\">Dense</span>)                        │ (<span style=\"color: #00d7ff; text-decoration-color: #00d7ff\">None</span>, <span style=\"color: #00af00; text-decoration-color: #00af00\">128</span>)                 │       <span style=\"color: #00af00; text-decoration-color: #00af00\">8,388,736</span> │\n",
              "├──────────────────────────────────────┼─────────────────────────────┼─────────────────┤\n",
              "│ dropout_2 (<span style=\"color: #0087ff; text-decoration-color: #0087ff\">Dropout</span>)                  │ (<span style=\"color: #00d7ff; text-decoration-color: #00d7ff\">None</span>, <span style=\"color: #00af00; text-decoration-color: #00af00\">128</span>)                 │               <span style=\"color: #00af00; text-decoration-color: #00af00\">0</span> │\n",
              "├──────────────────────────────────────┼─────────────────────────────┼─────────────────┤\n",
              "│ dense_1 (<span style=\"color: #0087ff; text-decoration-color: #0087ff\">Dense</span>)                      │ (<span style=\"color: #00d7ff; text-decoration-color: #00d7ff\">None</span>, <span style=\"color: #00af00; text-decoration-color: #00af00\">5</span>)                   │             <span style=\"color: #00af00; text-decoration-color: #00af00\">645</span> │\n",
              "└──────────────────────────────────────┴─────────────────────────────┴─────────────────┘\n",
              "</pre>\n"
            ]
          },
          "metadata": {}
        },
        {
          "output_type": "display_data",
          "data": {
            "text/plain": [
              "\u001b[1m Total params: \u001b[0m\u001b[38;5;34m8,760,204\u001b[0m (33.42 MB)\n"
            ],
            "text/html": [
              "<pre style=\"white-space:pre;overflow-x:auto;line-height:normal;font-family:Menlo,'DejaVu Sans Mono',consolas,'Courier New',monospace\"><span style=\"font-weight: bold\"> Total params: </span><span style=\"color: #00af00; text-decoration-color: #00af00\">8,760,204</span> (33.42 MB)\n",
              "</pre>\n"
            ]
          },
          "metadata": {}
        },
        {
          "output_type": "display_data",
          "data": {
            "text/plain": [
              "\u001b[1m Trainable params: \u001b[0m\u001b[38;5;34m8,760,197\u001b[0m (33.42 MB)\n"
            ],
            "text/html": [
              "<pre style=\"white-space:pre;overflow-x:auto;line-height:normal;font-family:Menlo,'DejaVu Sans Mono',consolas,'Courier New',monospace\"><span style=\"font-weight: bold\"> Trainable params: </span><span style=\"color: #00af00; text-decoration-color: #00af00\">8,760,197</span> (33.42 MB)\n",
              "</pre>\n"
            ]
          },
          "metadata": {}
        },
        {
          "output_type": "display_data",
          "data": {
            "text/plain": [
              "\u001b[1m Non-trainable params: \u001b[0m\u001b[38;5;34m7\u001b[0m (32.00 B)\n"
            ],
            "text/html": [
              "<pre style=\"white-space:pre;overflow-x:auto;line-height:normal;font-family:Menlo,'DejaVu Sans Mono',consolas,'Courier New',monospace\"><span style=\"font-weight: bold\"> Non-trainable params: </span><span style=\"color: #00af00; text-decoration-color: #00af00\">7</span> (32.00 B)\n",
              "</pre>\n"
            ]
          },
          "metadata": {}
        }
      ]
    },
    {
      "cell_type": "code",
      "execution_count": 17,
      "metadata": {
        "colab": {
          "base_uri": "https://localhost:8080/"
        },
        "id": "ocXejLueSyyQ",
        "outputId": "18df1c1f-76b2-4b5a-985f-68bc02d40561"
      },
      "outputs": [
        {
          "output_type": "stream",
          "name": "stdout",
          "text": [
            "Epoch 1/10\n",
            "\u001b[1m7/7\u001b[0m \u001b[32m━━━━━━━━━━━━━━━━━━━━\u001b[0m\u001b[37m\u001b[0m \u001b[1m19s\u001b[0m 2s/step - accuracy: 0.4608 - loss: 30.9891 - val_accuracy: 0.0430 - val_loss: 1.3163\n",
            "Epoch 2/10\n",
            "\u001b[1m7/7\u001b[0m \u001b[32m━━━━━━━━━━━━━━━━━━━━\u001b[0m\u001b[37m\u001b[0m \u001b[1m0s\u001b[0m 43ms/step - accuracy: 0.4769 - loss: 1.2991 - val_accuracy: 0.8172 - val_loss: 0.8261\n",
            "Epoch 3/10\n",
            "\u001b[1m7/7\u001b[0m \u001b[32m━━━━━━━━━━━━━━━━━━━━\u001b[0m\u001b[37m\u001b[0m \u001b[1m0s\u001b[0m 41ms/step - accuracy: 0.8140 - loss: 0.9260 - val_accuracy: 0.8172 - val_loss: 0.9541\n",
            "Epoch 4/10\n",
            "\u001b[1m7/7\u001b[0m \u001b[32m━━━━━━━━━━━━━━━━━━━━\u001b[0m\u001b[37m\u001b[0m \u001b[1m0s\u001b[0m 44ms/step - accuracy: 0.7836 - loss: 0.9634 - val_accuracy: 0.8172 - val_loss: 0.7593\n",
            "Epoch 5/10\n",
            "\u001b[1m7/7\u001b[0m \u001b[32m━━━━━━━━━━━━━━━━━━━━\u001b[0m\u001b[37m\u001b[0m \u001b[1m0s\u001b[0m 45ms/step - accuracy: 0.8009 - loss: 0.9059 - val_accuracy: 0.8172 - val_loss: 0.7506\n",
            "Epoch 6/10\n",
            "\u001b[1m7/7\u001b[0m \u001b[32m━━━━━━━━━━━━━━━━━━━━\u001b[0m\u001b[37m\u001b[0m \u001b[1m0s\u001b[0m 42ms/step - accuracy: 0.8115 - loss: 0.7782 - val_accuracy: 0.8172 - val_loss: 0.7353\n",
            "Epoch 7/10\n",
            "\u001b[1m7/7\u001b[0m \u001b[32m━━━━━━━━━━━━━━━━━━━━\u001b[0m\u001b[37m\u001b[0m \u001b[1m1s\u001b[0m 43ms/step - accuracy: 0.7954 - loss: 0.8523 - val_accuracy: 0.8172 - val_loss: 0.7523\n",
            "Epoch 8/10\n",
            "\u001b[1m7/7\u001b[0m \u001b[32m━━━━━━━━━━━━━━━━━━━━\u001b[0m\u001b[37m\u001b[0m \u001b[1m0s\u001b[0m 42ms/step - accuracy: 0.8271 - loss: 0.7936 - val_accuracy: 0.8172 - val_loss: 0.7388\n",
            "Epoch 9/10\n",
            "\u001b[1m7/7\u001b[0m \u001b[32m━━━━━━━━━━━━━━━━━━━━\u001b[0m\u001b[37m\u001b[0m \u001b[1m1s\u001b[0m 45ms/step - accuracy: 0.8304 - loss: 0.7247 - val_accuracy: 0.8172 - val_loss: 0.7577\n",
            "Epoch 10/10\n",
            "\u001b[1m7/7\u001b[0m \u001b[32m━━━━━━━━━━━━━━━━━━━━\u001b[0m\u001b[37m\u001b[0m \u001b[1m1s\u001b[0m 43ms/step - accuracy: 0.8055 - loss: 0.8226 - val_accuracy: 0.8172 - val_loss: 0.7567\n"
          ]
        }
      ],
      "source": [
        "# Certifique-se de usar os rótulos codificados\n",
        "history = model.fit(\n",
        "    x_train_norm, y_train_encoded,   # Rótulos codificados como one-hot\n",
        "    validation_data=(x_test_norm, y_test_encoded),\n",
        "    epochs=10,\n",
        "    batch_size=32,\n",
        "    verbose=1\n",
        ")"
      ]
    },
    {
      "cell_type": "code",
      "execution_count": 18,
      "metadata": {
        "colab": {
          "base_uri": "https://localhost:8080/"
        },
        "id": "KqX4Niu0SyyQ",
        "outputId": "7698592d-99b2-4937-c936-80216ec795ec"
      },
      "outputs": [
        {
          "output_type": "stream",
          "name": "stdout",
          "text": [
            "\u001b[1m3/3\u001b[0m \u001b[32m━━━━━━━━━━━━━━━━━━━━\u001b[0m\u001b[37m\u001b[0m \u001b[1m0s\u001b[0m 18ms/step - accuracy: 0.8188 - loss: 0.7389\n",
            "Test Loss: 0.7567, Test Accuracy: 0.8172\n"
          ]
        }
      ],
      "source": [
        "# Avaliação do modelo nos dados de teste normalizados\n",
        "test_loss, test_accuracy = model.evaluate(x_test_norm, y_test_encoded, verbose=1)\n",
        "print(f'Test Loss: {test_loss:.4f}, Test Accuracy: {test_accuracy:.4f}')\n"
      ]
    },
    {
      "cell_type": "code",
      "execution_count": 19,
      "metadata": {
        "colab": {
          "base_uri": "https://localhost:8080/",
          "height": 931
        },
        "id": "ExytQ-2eSyyQ",
        "outputId": "695fc09a-4733-4be7-97a0-8ac3b4440ee3"
      },
      "outputs": [
        {
          "output_type": "display_data",
          "data": {
            "text/plain": [
              "<Figure size 640x480 with 1 Axes>"
            ],
            "image/png": "[encoded data removed]"
          },
          "metadata": {}
        },
        {
          "output_type": "display_data",
          "data": {
            "text/plain": [
              "<Figure size 640x480 with 1 Axes>"
            ],
            "image/png": "[encoded data removed]"
          },
          "metadata": {}
        }
      ],
      "source": [
        "# Plot da perda\n",
        "plt.plot(history.history['loss'], label='Treinamento')\n",
        "plt.plot(history.history['val_loss'], label='Validação')\n",
        "plt.title('Perda durante o treinamento e validação')\n",
        "plt.xlabel('Épocas')\n",
        "plt.ylabel('Perda')\n",
        "plt.legend()\n",
        "plt.show()\n",
        "\n",
        "# Plot da acurácia\n",
        "plt.plot(history.history['accuracy'], label='Treinamento')\n",
        "plt.plot(history.history['val_accuracy'], label='Validação')\n",
        "plt.title('Acurácia durante o treinamento e validação')\n",
        "plt.xlabel('Épocas')\n",
        "plt.ylabel('Acurácia')\n",
        "plt.legend()\n",
        "plt.show()\n"
      ]
    },
    {
      "cell_type": "code",
      "source": [
        "from sklearn.metrics import confusion_matrix, ConfusionMatrixDisplay\n",
        "import numpy as np\n",
        "\n",
        "# Obtenha as previsões para os dados de teste\n",
        "y_pred = model.predict(x_test_norm)                      # Previsões do modelo\n",
        "y_pred_classes = np.argmax(y_pred, axis=1)               # Converte para rótulos de classe\n",
        "y_true = np.argmax(y_test_encoded, axis=1)               # Converte rótulos one-hot para classe\n",
        "\n",
        "# Gera a matriz de confusão\n",
        "conf_matrix = confusion_matrix(y_true, y_pred_classes)\n",
        "\n",
        "# Exibe a matriz de confusão\n",
        "disp = ConfusionMatrixDisplay(confusion_matrix=conf_matrix, display_labels=range(5))\n",
        "disp.plot(cmap='Blues')                                  # Define o estilo da cor (opcional)\n",
        "plt.title(\"Matriz de Confusão - 5 Classes\")\n",
        "plt.show()\n"
      ],
      "metadata": {
        "colab": {
          "base_uri": "https://localhost:8080/",
          "height": 489
        },
        "id": "nmKutSsHaiB7",
        "outputId": "13b0017c-56da-4569-9dc6-1dd9a59b1671"
      },
      "execution_count": 20,
      "outputs": [
        {
          "output_type": "stream",
          "name": "stdout",
          "text": [
            "\u001b[1m3/3\u001b[0m \u001b[32m━━━━━━━━━━━━━━━━━━━━\u001b[0m\u001b[37m\u001b[0m \u001b[1m1s\u001b[0m 184ms/step\n"
          ]
        },
        {
          "output_type": "display_data",
          "data": {
            "text/plain": [
              "<Figure size 640x480 with 2 Axes>"
            ],
            "image/png": "[encoded data removed]"
          },
          "metadata": {}
        }
      ]
    },
    {
      "cell_type": "code",
      "source": [
        "from sklearn.metrics import classification_report\n",
        "print(classification_report(y_test_encoded.argmax(axis=1), y_pred.argmax(axis=1)))\n"
      ],
      "metadata": {
        "id": "RdRhDBt8cEBO",
        "outputId": "41e118a3-28bb-4b68-ab7c-5dfb06879fa0",
        "colab": {
          "base_uri": "https://localhost:8080/"
        }
      },
      "execution_count": 21,
      "outputs": [
        {
          "output_type": "stream",
          "name": "stdout",
          "text": [
            "              precision    recall  f1-score   support\n",
            "\n",
            "           0       0.00      0.00      0.00         4\n",
            "           1       0.82      1.00      0.90        76\n",
            "           2       0.00      0.00      0.00         2\n",
            "           3       0.00      0.00      0.00         3\n",
            "           4       0.00      0.00      0.00         8\n",
            "\n",
            "    accuracy                           0.82        93\n",
            "   macro avg       0.16      0.20      0.18        93\n",
            "weighted avg       0.67      0.82      0.74        93\n",
            "\n"
          ]
        },
        {
          "output_type": "stream",
          "name": "stderr",
          "text": [
            "/usr/local/lib/python3.10/dist-packages/sklearn/metrics/_classification.py:1531: UndefinedMetricWarning: Precision is ill-defined and being set to 0.0 in labels with no predicted samples. Use `zero_division` parameter to control this behavior.\n",
            "  _warn_prf(average, modifier, f\"{metric.capitalize()} is\", len(result))\n",
            "/usr/local/lib/python3.10/dist-packages/sklearn/metrics/_classification.py:1531: UndefinedMetricWarning: Precision is ill-defined and being set to 0.0 in labels with no predicted samples. Use `zero_division` parameter to control this behavior.\n",
            "  _warn_prf(average, modifier, f\"{metric.capitalize()} is\", len(result))\n",
            "/usr/local/lib/python3.10/dist-packages/sklearn/metrics/_classification.py:1531: UndefinedMetricWarning: Precision is ill-defined and being set to 0.0 in labels with no predicted samples. Use `zero_division` parameter to control this behavior.\n",
            "  _warn_prf(average, modifier, f\"{metric.capitalize()} is\", len(result))\n"
          ]
        }
      ]
    }
  ],
  "metadata": {
    "kernelspec": {
      "display_name": "Python 3",
      "name": "python3"
    },
    "language_info": {
      "codemirror_mode": {
        "name": "ipython",
        "version": 3
      },
      "file_extension": ".py",
      "mimetype": "text/x-python",
      "name": "python",
      "nbconvert_exporter": "python",
      "pygments_lexer": "ipython3",
      "version": "3.12.3"
    },
    "colab": {
      "provenance": [],
      "gpuType": "T4"
    },
    "accelerator": "GPU"
  },
  "nbformat": 4,
  "nbformat_minor": 0
}